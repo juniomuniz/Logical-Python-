{
  "nbformat": 4,
  "nbformat_minor": 0,
  "metadata": {
    "colab": {
      "name": "Lista media notas.ipynb",
      "provenance": [],
      "authorship_tag": "ABX9TyPOHJzKaLG7F6m0ZvPoQhWu",
      "include_colab_link": true
    },
    "kernelspec": {
      "name": "python3",
      "display_name": "Python 3"
    },
    "language_info": {
      "name": "python"
    }
  },
  "cells": [
    {
      "cell_type": "markdown",
      "metadata": {
        "id": "view-in-github",
        "colab_type": "text"
      },
      "source": [
        "<a href=\"https://colab.research.google.com/github/juniomuniz/Logical-Python-/blob/main/Lista_media_notas.ipynb\" target=\"_parent\"><img src=\"https://colab.research.google.com/assets/colab-badge.svg\" alt=\"Open In Colab\"/></a>"
      ]
    },
    {
      "cell_type": "code",
      "metadata": {
        "colab": {
          "base_uri": "https://localhost:8080/"
        },
        "id": "HGxDGFbJ4YG2",
        "outputId": "dcb6b09a-0245-425d-a7c8-cd158d5b3254"
      },
      "source": [
        "score = [4.7, 5.6, 8.9, 3.5, 6.6, 7.4, 8.0, 9.5]\n",
        "sum = 0.0\n",
        "i = 0\n",
        "while i < 8:\n",
        " sum += score[i]\n",
        " i +=1 \n",
        "print(f\"media:{sum/i:5.2f}\")"
      ],
      "execution_count": 19,
      "outputs": [
        {
          "output_type": "stream",
          "name": "stdout",
          "text": [
            "media: 6.78\n"
          ]
        }
      ]
    },
    {
      "cell_type": "code",
      "metadata": {
        "colab": {
          "base_uri": "https://localhost:8080/",
          "height": 128
        },
        "id": "r-Y-_uz646Sf",
        "outputId": "ddd3f6c0-74ec-4f14-9588-f53ffdf13b85"
      },
      "source": [
        "\n"
      ],
      "execution_count": 7,
      "outputs": [
        {
          "output_type": "error",
          "ename": "IndentationError",
          "evalue": "ignored",
          "traceback": [
            "\u001b[0;36m  File \u001b[0;32m\"<ipython-input-7-ba43e8e35ae8>\"\u001b[0;36m, line \u001b[0;32m3\u001b[0m\n\u001b[0;31m    i+= 1\u001b[0m\n\u001b[0m    ^\u001b[0m\n\u001b[0;31mIndentationError\u001b[0m\u001b[0;31m:\u001b[0m unexpected indent\n"
          ]
        }
      ]
    },
    {
      "cell_type": "code",
      "metadata": {
        "id": "u_1UQ3k45Hw2"
      },
      "source": [
        ""
      ],
      "execution_count": null,
      "outputs": []
    }
  ]
}