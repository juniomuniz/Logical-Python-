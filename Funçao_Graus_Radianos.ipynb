{
  "nbformat": 4,
  "nbformat_minor": 0,
  "metadata": {
    "colab": {
      "name": "Untitled13.ipynb",
      "provenance": [],
      "authorship_tag": "ABX9TyOOx7Q9LnbIVJM7vpqePpBw",
      "include_colab_link": true
    },
    "kernelspec": {
      "name": "python3",
      "display_name": "Python 3"
    },
    "language_info": {
      "name": "python"
    }
  },
  "cells": [
    {
      "cell_type": "markdown",
      "metadata": {
        "id": "view-in-github",
        "colab_type": "text"
      },
      "source": [
        "<a href=\"https://colab.research.google.com/github/juniomuniz/Logical-Python-/blob/main/Fun%C3%A7ao_Graus_Radianos.ipynb\" target=\"_parent\"><img src=\"https://colab.research.google.com/assets/colab-badge.svg\" alt=\"Open In Colab\"/></a>"
      ]
    },
    {
      "cell_type": "code",
      "metadata": {
        "colab": {
          "base_uri": "https://localhost:8080/"
        },
        "id": "s4ipYd61DSjC",
        "outputId": "7dd7f537-c105-4aa6-d134-41ec4d3660ab"
      },
      "source": [
        "pi = 3.1416\n",
        "print(\"\\n\")\n",
        "\n",
        "def converte_radiano(graus):\n",
        "  pi = 3.14\n",
        "  radianos = (graus*pi)/180\n",
        "  print(\"O valor da variavel local PI = \", pi)\n",
        "  return radianos\n",
        "print(\"90° equivalente a \", converte_radiano(90), \"radianos\")\n",
        "print(\"180° equivalente a \", converte_radiano(180), \"radianos\")\n",
        "print(\"270° equivalente a \", converte_radiano(270), \"radianos\")\n",
        "print(\"360° equivalente a \", converte_radiano(360), \"radianos\")\n",
        "print(\"\\n O VALOR GLOBAL DE PI É ALTERADO PELA FUNÇAO 'converte_radiano'\\ne continua PI =\", pi)"
      ],
      "execution_count": 5,
      "outputs": [
        {
          "output_type": "stream",
          "name": "stdout",
          "text": [
            "\n",
            "\n",
            "O valor da variavel local PI =  3.14\n",
            "90° equivalente a  1.57 radianos\n",
            "O valor da variavel local PI =  3.14\n",
            "180° equivalente a  3.14 radianos\n",
            "O valor da variavel local PI =  3.14\n",
            "270° equivalente a  4.71 radianos\n",
            "O valor da variavel local PI =  3.14\n",
            "360° equivalente a  6.28 radianos\n",
            "\n",
            " O VALOR GLOBAL DE PI É ALTERADO PELA FUNÇAO 'converte_radiano'\n",
            "e continua PI = 3.1416\n"
          ]
        }
      ]
    },
    {
      "cell_type": "code",
      "metadata": {
        "id": "EKbLl-PzFmHM"
      },
      "source": [
        ""
      ],
      "execution_count": null,
      "outputs": []
    }
  ]
}