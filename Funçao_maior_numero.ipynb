{
  "nbformat": 4,
  "nbformat_minor": 0,
  "metadata": {
    "colab": {
      "name": "Untitled21.ipynb",
      "provenance": [],
      "authorship_tag": "ABX9TyPLSXnmK9UXwlEq03WeTM0o",
      "include_colab_link": true
    },
    "kernelspec": {
      "name": "python3",
      "display_name": "Python 3"
    },
    "language_info": {
      "name": "python"
    }
  },
  "cells": [
    {
      "cell_type": "markdown",
      "metadata": {
        "id": "view-in-github",
        "colab_type": "text"
      },
      "source": [
        "<a href=\"https://colab.research.google.com/github/juniomuniz/Logical-Python-/blob/main/Fun%C3%A7ao_maior_numero.ipynb\" target=\"_parent\"><img src=\"https://colab.research.google.com/assets/colab-badge.svg\" alt=\"Open In Colab\"/></a>"
      ]
    },
    {
      "cell_type": "code",
      "metadata": {
        "colab": {
          "base_uri": "https://localhost:8080/"
        },
        "id": "_pOY_uC-wKVd",
        "outputId": "0bfe0dc6-0c2e-4bf7-b86c-cfb688dd271c"
      },
      "source": [
        "list = []\n",
        "\n",
        "for c in range(0,3):\n",
        "  list.append(float(input(\"digite\")))\n",
        "  c = c + 1 \n",
        "#m = min(list)\n",
        "#print(m)\n",
        "def menor_dois(a, b):\n",
        "  \n",
        "  if a < b:\n",
        "    return a \n",
        "  if b < a: \n",
        "    return b \n",
        "  else: \n",
        "    g = a \n",
        "    print(\"nao ha maior, todos valores i\")\n",
        "    return g \n",
        "def menor_tres(c, d, e):\n",
        "  f = menor_dois(c, d)\n",
        "  g = menor_dois(e, f)\n",
        "  return g \n",
        "\n",
        "print (menor_tres(list[0], list[1],list[2]))\n",
        "\n",
        "\n"
      ],
      "execution_count": null,
      "outputs": [
        {
          "output_type": "stream",
          "name": "stdout",
          "text": [
            "digite6\n",
            "digite5\n",
            "digite1\n",
            "1.0\n"
          ]
        }
      ]
    }
  ]
}