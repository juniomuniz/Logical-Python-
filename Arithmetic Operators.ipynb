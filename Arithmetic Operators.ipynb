{
  "nbformat": 4,
  "nbformat_minor": 0,
  "metadata": {
    "colab": {
      "name": "Untitled2.ipynb",
      "provenance": [],
      "authorship_tag": "ABX9TyNuH4LfLD/u6BVPb50MkynD",
      "include_colab_link": true
    },
    "kernelspec": {
      "name": "python3",
      "display_name": "Python 3"
    },
    "language_info": {
      "name": "python"
    }
  },
  "cells": [
    {
      "cell_type": "markdown",
      "metadata": {
        "id": "view-in-github",
        "colab_type": "text"
      },
      "source": [
        "<a href=\"https://colab.research.google.com/github/juniomuniz/Logical-Python-/blob/main/Arithmetic%20Operators.ipynb\" target=\"_parent\"><img src=\"https://colab.research.google.com/assets/colab-badge.svg\" alt=\"Open In Colab\"/></a>"
      ]
    },
    {
      "cell_type": "markdown",
      "metadata": {
        "id": "jRljeXlLtGhp"
      },
      "source": [
        "# Python Arithmetic Operators"
      ]
    },
    {
      "cell_type": "code",
      "metadata": {
        "id": "4hi-ZQsmtFFT"
      },
      "source": [
        "# Task \n",
        "# Given an integer, n, perform the following conditional actions:\n",
        "# If n is odd, print Weird\n",
        "# If n is even and in the inclusive range of 2 to 5, print Not Weird\n",
        "# If n is even and in the inclusive range of 6 to 20, print Weird\n",
        "# If n is even and greater than 20, print Not Weird\n",
        "\n",
        "# Input Format\n",
        "# A single line containing a positive integer, n."
      ],
      "execution_count": 11,
      "outputs": []
    },
    {
      "cell_type": "code",
      "metadata": {
        "colab": {
          "base_uri": "https://localhost:8080/"
        },
        "id": "-Y1U-2CNpoCh",
        "outputId": "5cfcc357-158d-4731-adb3-ec303ef1acf3"
      },
      "source": [
        "a = int(input())\n",
        "b = int(input())\n",
        "    \n",
        "s = (a + b)\n",
        "m = (a - b)\n",
        "p = (a * b)\n",
        "\n",
        "print (a + b)\n",
        "print( a - b)\n",
        "print (a * b)\n",
        "\n"
      ],
      "execution_count": 13,
      "outputs": [
        {
          "output_type": "stream",
          "name": "stdout",
          "text": [
            "10\n",
            "8\n",
            "18\n",
            "2\n",
            "80\n"
          ]
        }
      ]
    },
    {
      "cell_type": "code",
      "metadata": {
        "id": "rnphliLRpqua"
      },
      "source": [
        ""
      ],
      "execution_count": null,
      "outputs": []
    }
  ]
}