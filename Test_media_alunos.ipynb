{
  "nbformat": 4,
  "nbformat_minor": 0,
  "metadata": {
    "colab": {
      "name": "Untitled26.ipynb",
      "provenance": [],
      "authorship_tag": "ABX9TyN2H+knpca0DqHwJGHBTVt1",
      "include_colab_link": true
    },
    "kernelspec": {
      "name": "python3",
      "display_name": "Python 3"
    },
    "language_info": {
      "name": "python"
    }
  },
  "cells": [
    {
      "cell_type": "markdown",
      "metadata": {
        "id": "view-in-github",
        "colab_type": "text"
      },
      "source": [
        "<a href=\"https://colab.research.google.com/github/juniomuniz/Logical-Python-/blob/main/Test_media_alunos.ipynb\" target=\"_parent\"><img src=\"https://colab.research.google.com/assets/colab-badge.svg\" alt=\"Open In Colab\"/></a>"
      ]
    },
    {
      "cell_type": "code",
      "metadata": {
        "colab": {
          "base_uri": "https://localhost:8080/",
          "height": 460
        },
        "id": "oho8YMiaEAVt",
        "outputId": "15be11e7-3bb1-45ef-f18a-c8045456d235"
      },
      "source": [
        "list_nome = []\n",
        "list_nota = []\n",
        "#def alunos()\n",
        "#return \n",
        "\n",
        "for c in range(2):\n",
        "  n = input(\"Digite o nome do aluno\")\n",
        "  list_nome.append(n)\n",
        "  noth = float(input(\"Digite a nota de Historia\"))\n",
        "  list_nota.append(noth)\n",
        "  notm = float(input(\"Digite a nota de Matematica\"))\n",
        "  list_nota.append(notm)\n",
        "  notp = float(input(\"Digite a nota de Portugues\"))\n",
        "  list_nota.append(notp)\n",
        "  notg = float(input(\"Digite a nota de Geografia\"))\n",
        "  list_nota.append(notg)\n",
        "  notc = float(input(\"Digite a nota de Ciencia\"))\n",
        "  list_nota.append(notc)\n",
        "  c =+ c \n",
        "c1 = 0\n",
        "c2 = 0\n",
        "\n",
        "for i  in range(2):\n",
        "    tu_nome = list_nome[c1]\n",
        "    media = (list_nota[(c2 + 1 )] + list_nota[(c2 + 2 )] + list_nota[(c2 + 3 )] + list_nota[(c2 + 4 )] + list_nota[(c2 + 5 )])/5\n",
        "    c2 = c2 + 5\n",
        "    c1 = c1 + 1\n",
        "    if media < 5 :\n",
        "       tu1 = (list_nome[c1], \"Aprovado = True\")\n",
        "       print(tu1)\n",
        "    else: \n",
        "       tu2 = (list_nome[c1], \"Aprovado = False\")\n",
        "       print(tu2)\n",
        "   \n",
        "print(list_nome)\n",
        "print(list_nota)\n"
      ],
      "execution_count": null,
      "outputs": [
        {
          "output_type": "stream",
          "name": "stdout",
          "text": [
            "Digite o nome do alunoa\n",
            "Digite a nota de Historia5\n",
            "Digite a nota de Matematica7\n",
            "Digite a nota de Portugues2\n",
            "Digite a nota de Geografia3\n",
            "Digite a nota de Ciencia2\n",
            "Digite o nome do aluno8\n",
            "Digite a nota de Historia6\n",
            "Digite a nota de Matematica4\n",
            "Digite a nota de Portugues2\n",
            "Digite a nota de Geografia5\n",
            "Digite a nota de Ciencia7\n",
            "('8', 'Aprovado = True')\n"
          ]
        },
        {
          "output_type": "error",
          "ename": "IndexError",
          "evalue": "ignored",
          "traceback": [
            "\u001b[0;31m---------------------------------------------------------------------------\u001b[0m",
            "\u001b[0;31mIndexError\u001b[0m                                Traceback (most recent call last)",
            "\u001b[0;32m<ipython-input-7-b8193d4f55ff>\u001b[0m in \u001b[0;36m<module>\u001b[0;34m()\u001b[0m\n\u001b[1;32m     23\u001b[0m \u001b[0;32mfor\u001b[0m \u001b[0mi\u001b[0m  \u001b[0;32min\u001b[0m \u001b[0mrange\u001b[0m\u001b[0;34m(\u001b[0m\u001b[0;36m2\u001b[0m\u001b[0;34m)\u001b[0m\u001b[0;34m:\u001b[0m\u001b[0;34m\u001b[0m\u001b[0;34m\u001b[0m\u001b[0m\n\u001b[1;32m     24\u001b[0m     \u001b[0mtu_nome\u001b[0m \u001b[0;34m=\u001b[0m \u001b[0mlist_nome\u001b[0m\u001b[0;34m[\u001b[0m\u001b[0mc1\u001b[0m\u001b[0;34m]\u001b[0m\u001b[0;34m\u001b[0m\u001b[0;34m\u001b[0m\u001b[0m\n\u001b[0;32m---> 25\u001b[0;31m     \u001b[0mmedia\u001b[0m \u001b[0;34m=\u001b[0m \u001b[0;34m(\u001b[0m\u001b[0mlist_nota\u001b[0m\u001b[0;34m[\u001b[0m\u001b[0;34m(\u001b[0m\u001b[0mc2\u001b[0m \u001b[0;34m+\u001b[0m \u001b[0;36m1\u001b[0m \u001b[0;34m)\u001b[0m\u001b[0;34m]\u001b[0m \u001b[0;34m+\u001b[0m \u001b[0mlist_nota\u001b[0m\u001b[0;34m[\u001b[0m\u001b[0;34m(\u001b[0m\u001b[0mc2\u001b[0m \u001b[0;34m+\u001b[0m \u001b[0;36m2\u001b[0m \u001b[0;34m)\u001b[0m\u001b[0;34m]\u001b[0m \u001b[0;34m+\u001b[0m \u001b[0mlist_nota\u001b[0m\u001b[0;34m[\u001b[0m\u001b[0;34m(\u001b[0m\u001b[0mc2\u001b[0m \u001b[0;34m+\u001b[0m \u001b[0;36m3\u001b[0m \u001b[0;34m)\u001b[0m\u001b[0;34m]\u001b[0m \u001b[0;34m+\u001b[0m \u001b[0mlist_nota\u001b[0m\u001b[0;34m[\u001b[0m\u001b[0;34m(\u001b[0m\u001b[0mc2\u001b[0m \u001b[0;34m+\u001b[0m \u001b[0;36m4\u001b[0m \u001b[0;34m)\u001b[0m\u001b[0;34m]\u001b[0m \u001b[0;34m+\u001b[0m \u001b[0mlist_nota\u001b[0m\u001b[0;34m[\u001b[0m\u001b[0;34m(\u001b[0m\u001b[0mc2\u001b[0m \u001b[0;34m+\u001b[0m \u001b[0;36m5\u001b[0m \u001b[0;34m)\u001b[0m\u001b[0;34m]\u001b[0m\u001b[0;34m)\u001b[0m\u001b[0;34m/\u001b[0m\u001b[0;36m5\u001b[0m\u001b[0;34m\u001b[0m\u001b[0;34m\u001b[0m\u001b[0m\n\u001b[0m\u001b[1;32m     26\u001b[0m     \u001b[0mc2\u001b[0m \u001b[0;34m=\u001b[0m \u001b[0mc2\u001b[0m \u001b[0;34m+\u001b[0m \u001b[0;36m5\u001b[0m\u001b[0;34m\u001b[0m\u001b[0;34m\u001b[0m\u001b[0m\n\u001b[1;32m     27\u001b[0m     \u001b[0mc1\u001b[0m \u001b[0;34m=\u001b[0m \u001b[0mc1\u001b[0m \u001b[0;34m+\u001b[0m \u001b[0;36m1\u001b[0m\u001b[0;34m\u001b[0m\u001b[0;34m\u001b[0m\u001b[0m\n",
            "\u001b[0;31mIndexError\u001b[0m: list index out of range"
          ]
        }
      ]
    },
    {
      "cell_type": "code",
      "metadata": {
        "colab": {
          "base_uri": "https://localhost:8080/",
          "height": 460
        },
        "id": "dm6KhlpGR9yF",
        "outputId": "33e8b1bf-5484-4a26-83c5-9d861976558a"
      },
      "source": [
        "list_nome = []\n",
        "list_nota = []\n",
        "#def alunos()\n",
        "#return \n",
        "\n",
        "for c in range(2):\n",
        "  n = input(\"Digite o nome do aluno\")\n",
        "  list_nome.append(n)\n",
        "  noth = float(input(\"Digite a nota de Historia\"))\n",
        "  list_nota.append(noth)\n",
        "  notm = float(input(\"Digite a nota de Matematica\"))\n",
        "  list_nota.append(notm)\n",
        "  notp = float(input(\"Digite a nota de Portugues\"))\n",
        "  list_nota.append(notp)\n",
        "  notg = float(input(\"Digite a nota de Geografia\"))\n",
        "  list_nota.append(notg)\n",
        "  notc = float(input(\"Digite a nota de Ciencia\"))\n",
        "  list_nota.append(notc)\n",
        "  c =+ c \n",
        "c1 = 0\n",
        "c2 = 0\n",
        "\n",
        "for i  in range(2):\n",
        "    media = (list_nota[c2 + 1] + list_nota[c2 + 2 ] + list_nota[c2 + 3] + list_nota[c2 + 4 ] + list_nota[c2 + 5])/5\n",
        "    \n",
        "    if media >= 5:\n",
        "       tu1 = (list_nome[c1], \"Aprovado = True\")\n",
        "       print(tu1)\n",
        "    else: \n",
        "       tu2 = (list_nome[c1], \"Aprovado = False\")\n",
        "       print(tu2)\n",
        "    c2 = c2 + 5\n",
        "    c1 = c1 + 1\n",
        "    i = i + 1\n",
        "print(list_nome)\n",
        "print(list_nota)\n"
      ],
      "execution_count": null,
      "outputs": [
        {
          "output_type": "stream",
          "name": "stdout",
          "text": [
            "Digite o nome do alunoa\n",
            "Digite a nota de Historia2\n",
            "Digite a nota de Matematica3\n",
            "Digite a nota de Portugues5\n",
            "Digite a nota de Geografia6\n",
            "Digite a nota de Ciencia1\n",
            "Digite o nome do alunob\n",
            "Digite a nota de Historia8\n",
            "Digite a nota de Matematica9\n",
            "Digite a nota de Portugues6\n",
            "Digite a nota de Geografia5\n",
            "Digite a nota de Ciencia4\n",
            "('a', 'Aprovado = False')\n"
          ]
        },
        {
          "output_type": "error",
          "ename": "IndexError",
          "evalue": "ignored",
          "traceback": [
            "\u001b[0;31m---------------------------------------------------------------------------\u001b[0m",
            "\u001b[0;31mIndexError\u001b[0m                                Traceback (most recent call last)",
            "\u001b[0;32m<ipython-input-15-499f769bb56b>\u001b[0m in \u001b[0;36m<module>\u001b[0;34m()\u001b[0m\n\u001b[1;32m     24\u001b[0m \u001b[0;34m\u001b[0m\u001b[0m\n\u001b[1;32m     25\u001b[0m \u001b[0;34m\u001b[0m\u001b[0m\n\u001b[0;32m---> 26\u001b[0;31m     \u001b[0mmedia\u001b[0m \u001b[0;34m=\u001b[0m \u001b[0;34m(\u001b[0m\u001b[0;34m(\u001b[0m\u001b[0mlist_nota\u001b[0m\u001b[0;34m[\u001b[0m\u001b[0mc2\u001b[0m \u001b[0;34m+\u001b[0m \u001b[0;36m1\u001b[0m\u001b[0;34m]\u001b[0m \u001b[0;34m+\u001b[0m \u001b[0mlist_nota\u001b[0m\u001b[0;34m[\u001b[0m\u001b[0mc2\u001b[0m \u001b[0;34m+\u001b[0m \u001b[0;36m2\u001b[0m \u001b[0;34m]\u001b[0m \u001b[0;34m+\u001b[0m \u001b[0mlist_nota\u001b[0m\u001b[0;34m[\u001b[0m\u001b[0mc2\u001b[0m \u001b[0;34m+\u001b[0m \u001b[0;36m3\u001b[0m\u001b[0;34m]\u001b[0m \u001b[0;34m+\u001b[0m \u001b[0mlist_nota\u001b[0m\u001b[0;34m[\u001b[0m\u001b[0mc2\u001b[0m \u001b[0;34m+\u001b[0m \u001b[0;36m4\u001b[0m \u001b[0;34m]\u001b[0m \u001b[0;34m+\u001b[0m \u001b[0mlist_nota\u001b[0m\u001b[0;34m[\u001b[0m\u001b[0mc2\u001b[0m \u001b[0;34m+\u001b[0m \u001b[0;36m5\u001b[0m\u001b[0;34m]\u001b[0m\u001b[0;34m)\u001b[0m\u001b[0;34m/\u001b[0m\u001b[0;36m5\u001b[0m\u001b[0;34m)\u001b[0m\u001b[0;34m\u001b[0m\u001b[0;34m\u001b[0m\u001b[0m\n\u001b[0m\u001b[1;32m     27\u001b[0m \u001b[0;34m\u001b[0m\u001b[0m\n\u001b[1;32m     28\u001b[0m     \u001b[0;32mif\u001b[0m \u001b[0mmedia\u001b[0m \u001b[0;34m>=\u001b[0m \u001b[0;36m5\u001b[0m\u001b[0;34m:\u001b[0m\u001b[0;34m\u001b[0m\u001b[0;34m\u001b[0m\u001b[0m\n",
            "\u001b[0;31mIndexError\u001b[0m: list index out of range"
          ]
        }
      ]
    }
  ]
}