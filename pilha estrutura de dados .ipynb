{
  "nbformat": 4,
  "nbformat_minor": 0,
  "metadata": {
    "colab": {
      "name": "Untitled39.ipynb",
      "provenance": [],
      "authorship_tag": "ABX9TyPCFJUeaLIprPYHdh58XRhe",
      "include_colab_link": true
    },
    "kernelspec": {
      "name": "python3",
      "display_name": "Python 3"
    },
    "language_info": {
      "name": "python"
    }
  },
  "cells": [
    {
      "cell_type": "markdown",
      "metadata": {
        "id": "view-in-github",
        "colab_type": "text"
      },
      "source": [
        "<a href=\"https://colab.research.google.com/github/juniomuniz/Logical-Python-/blob/main/pilha%20estrutura%20de%20dados%20.ipynb\" target=\"_parent\"><img src=\"https://colab.research.google.com/assets/colab-badge.svg\" alt=\"Open In Colab\"/></a>"
      ]
    },
    {
      "cell_type": "code",
      "execution_count": null,
      "metadata": {
        "colab": {
          "base_uri": "https://localhost:8080/"
        },
        "id": "v1RkpC5j2YYB",
        "outputId": "21692d12-8728-469d-d81b-1eb97099aac5"
      },
      "outputs": [
        {
          "output_type": "stream",
          "name": "stdout",
          "text": [
            "Saida em forma de Fila [7, 8, 10, 20, 30, 40, 50, 60, 70, 80]\n",
            "Saida em forma de Pilha [80, 70, 60, 50, 40, 30, 20, 10, 8, 7]\n"
          ]
        }
      ],
      "source": [
        "my_pilha = [7,8,10,20,30,40,50,60,70,80]\n",
        "print(\"Saida em forma de Fila\",my_pilha)\n",
        "my_pilha.reverse()\n",
        "print(\"Saida em forma de Pilha\",my_pilha)\n"
      ]
    },
    {
      "cell_type": "code",
      "source": [
        "list = []\n",
        "print(\"Digite 5 valores para lista\")\n",
        "for i in range(5):\n",
        "  num = int(input(\"Digite um valor\"))\n",
        "  list.append(num)\n",
        "  i = i + 1  \n",
        "\n",
        "print(list)\n",
        "print( \"maior valor da lista\", max(list))\n",
        "print(\"menor Valor da lista\", min(list))\n",
        "\n",
        "\n",
        "Sum = sum(list)\n",
        "\n",
        "media = Sum / 5 \n",
        "\n",
        "Max = max(list)  \n",
        "dif = Max - media \n",
        "print(\"a diferença entre a média e o maior valor é   \",round(dif))"
      ],
      "metadata": {
        "colab": {
          "base_uri": "https://localhost:8080/"
        },
        "id": "wdGsd7wv45Ll",
        "outputId": "fd050f1b-7b1b-49cc-ea1f-0dd80fe1d63b"
      },
      "execution_count": null,
      "outputs": [
        {
          "output_type": "stream",
          "name": "stdout",
          "text": [
            "Digite 5 valores para lista\n",
            "Digite um valor8\n",
            "Digite um valor2\n",
            "Digite um valor4\n",
            "Digite um valor7\n",
            "Digite um valor1\n",
            "[8, 2, 4, 7, 1]\n",
            "maior valor da lista 8\n",
            "menor Valor da lista 1\n",
            "a diferença entre a média e o maior valor é =   4\n"
          ]
        }
      ]
    },
    {
      "cell_type": "code",
      "source": [
        "from collections import deque\n",
        "Fila = deque()\n",
        "for i in range(5):\n",
        "  n = int(input(\"Digite um valor\"))\n",
        "  Fila.append(n)\n",
        "  i = i+1 \n",
        "print(Fila)\n",
        "\n",
        "print(Fila.popleft())\n",
        "print(Fila.popleft())\n",
        "print(Fila)\n",
        "for y in range(2):\n",
        "  c = int(input(\"Digite um valor\"))\n",
        "  Fila.append(c)\n",
        "  y = y+1\n",
        "print(Fila)"
      ],
      "metadata": {
        "colab": {
          "base_uri": "https://localhost:8080/"
        },
        "id": "G-Ra940245jK",
        "outputId": "ac7279a7-b126-4275-f0c0-ac387f1d9347"
      },
      "execution_count": null,
      "outputs": [
        {
          "output_type": "stream",
          "name": "stdout",
          "text": [
            "Digite um valor8\n",
            "Digite um valor5\n",
            "Digite um valor4\n",
            "Digite um valor6\n",
            "Digite um valor1\n",
            "deque([8, 5, 4, 6, 1])\n",
            "8\n",
            "5\n",
            "deque([4, 6, 1])\n",
            "Digite um valor8\n",
            "Digite um valor100\n",
            "deque([4, 6, 1, 8, 100])\n"
          ]
        }
      ]
    }
  ]
}