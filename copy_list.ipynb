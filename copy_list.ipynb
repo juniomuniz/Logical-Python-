{
  "nbformat": 4,
  "nbformat_minor": 0,
  "metadata": {
    "colab": {
      "name": "copy list.ipynb",
      "provenance": [],
      "authorship_tag": "ABX9TyNHF+w9lanf0ctyeSQy6Ucf",
      "include_colab_link": true
    },
    "kernelspec": {
      "name": "python3",
      "display_name": "Python 3"
    },
    "language_info": {
      "name": "python"
    }
  },
  "cells": [
    {
      "cell_type": "markdown",
      "metadata": {
        "id": "view-in-github",
        "colab_type": "text"
      },
      "source": [
        "<a href=\"https://colab.research.google.com/github/juniomuniz/Logical-Python-/blob/main/copy_list.ipynb\" target=\"_parent\"><img src=\"https://colab.research.google.com/assets/colab-badge.svg\" alt=\"Open In Colab\"/></a>"
      ]
    },
    {
      "cell_type": "code",
      "metadata": {
        "colab": {
          "base_uri": "https://localhost:8080/"
        },
        "id": "xdFdwIEkX23X",
        "outputId": "f2590bf3-d8e1-44f5-a4d6-900b9ffb5ba6"
      },
      "source": [
        "lista1 = [1,2,3]\n",
        "lista2 = lista1[:]\n",
        "print(lista1)\n",
        "print(lista2)"
      ],
      "execution_count": 5,
      "outputs": [
        {
          "output_type": "stream",
          "name": "stdout",
          "text": [
            "[1, 2, 3]\n",
            "[1, 2, 3]\n"
          ]
        }
      ]
    },
    {
      "cell_type": "code",
      "metadata": {
        "colab": {
          "base_uri": "https://localhost:8080/"
        },
        "id": "J7ooortGe0hE",
        "outputId": "a56c25e8-d401-4c43-ce06-276f8c4ba058"
      },
      "source": [
        "i = 0 \n",
        "print(\"A lista 2 foi copia da lista 1 \")\n",
        "print(\"lista 1 é \",lista1)\n",
        "print(\"lista 2 é \",lista2)\n",
        "print(\"Digite novos valores para lista 2\")\n",
        "\n",
        "while i < 3:\n",
        "  lista2[i] = int(input(\"Digite um valor\"))\n",
        "  i +=1\n",
        "print(\"A lista 1 é \", lista1, \"e a lista dois é \",lista2)\n"
      ],
      "execution_count": 16,
      "outputs": [
        {
          "output_type": "stream",
          "name": "stdout",
          "text": [
            "A lista 2 foi copia da lista 1 \n",
            "lista 1 é  [1, 2, 3]\n",
            "lista 2 é  [8, 2, 3]\n",
            "Digite novos valores para lista 2\n",
            "Digite um valor8\n",
            "Digite um valor6\n",
            "Digite um valor1\n",
            "A lista 1 é  [1, 2, 3] e a lista dois é  [8, 6, 1]\n"
          ]
        }
      ]
    }
  ]
}