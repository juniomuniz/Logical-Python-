{
  "nbformat": 4,
  "nbformat_minor": 0,
  "metadata": {
    "colab": {
      "name": "For i in range(n).ipynb",
      "provenance": [],
      "authorship_tag": "ABX9TyPm0ImQovZaHnF8GU3SHlbB",
      "include_colab_link": true
    },
    "kernelspec": {
      "name": "python3",
      "display_name": "Python 3"
    },
    "language_info": {
      "name": "python"
    }
  },
  "cells": [
    {
      "cell_type": "markdown",
      "metadata": {
        "id": "view-in-github",
        "colab_type": "text"
      },
      "source": [
        "<a href=\"https://colab.research.google.com/github/juniomuniz/Logical-Python-/blob/main/For_i_in_range(n).ipynb\" target=\"_parent\"><img src=\"https://colab.research.google.com/assets/colab-badge.svg\" alt=\"Open In Colab\"/></a>"
      ]
    },
    {
      "cell_type": "markdown",
      "metadata": {
        "id": "qx3eJ_s5JC_V"
      },
      "source": [
        "#Loop \n",
        "#For i in range(n)"
      ]
    },
    {
      "cell_type": "code",
      "metadata": {
        "colab": {
          "base_uri": "https://localhost:8080/",
          "height": 86
        },
        "id": "1pRJvK_2I-Ns",
        "outputId": "059523ce-41e8-486a-d74a-26a17ca29eb8"
      },
      "source": [
        "\"\"\"Task:\n",
        "      The provided code stub reads and integer, n  , from STDIN. For all non-negative integers i<n, print i^2.\n",
        "\n",
        "Example:\n",
        "       n=3\n",
        "       The list of non-negative integers that are less than  n=3 is [0,1,2] . Print the square of each number on a separate line.\n",
        "      0\n",
        "      1\n",
        "      4\"\"\""
      ],
      "execution_count": 5,
      "outputs": [
        {
          "output_type": "execute_result",
          "data": {
            "application/vnd.google.colaboratory.intrinsic+json": {
              "type": "string"
            },
            "text/plain": [
              "'Task:\\n      The provided code stub reads and integer, n  , from STDIN. For all non-negative integers i<n, print i^2.\\n\\nExample:\\n       n=3\\n       The list of non-negative integers that are less than  n=3 is [0,1,2] . Print the square of each number on a separate line.\\n      0\\n      1\\n      4'"
            ]
          },
          "metadata": {},
          "execution_count": 5
        }
      ]
    },
    {
      "cell_type": "code",
      "metadata": {
        "colab": {
          "base_uri": "https://localhost:8080/"
        },
        "id": "t7g1f-Ztvsmr",
        "outputId": "8fed7642-1064-4a2c-e9a8-ed248eb6d6d0"
      },
      "source": [
        "n = int(input())\n",
        "for i in range(n):\n",
        " print(i*i)\n"
      ],
      "execution_count": 6,
      "outputs": [
        {
          "output_type": "stream",
          "name": "stdout",
          "text": [
            "5\n",
            "0\n",
            "1\n",
            "4\n",
            "9\n",
            "16\n"
          ]
        }
      ]
    },
    {
      "cell_type": "code",
      "metadata": {
        "id": "E7etGVrOw4tz"
      },
      "source": [
        ""
      ],
      "execution_count": null,
      "outputs": []
    },
    {
      "cell_type": "markdown",
      "metadata": {
        "id": "tOZW93c1I9SN"
      },
      "source": [
        ""
      ]
    }
  ]
}