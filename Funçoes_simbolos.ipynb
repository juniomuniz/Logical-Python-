{
  "nbformat": 4,
  "nbformat_minor": 0,
  "metadata": {
    "colab": {
      "name": "Untitled13.ipynb",
      "provenance": [],
      "authorship_tag": "ABX9TyMC9C7Bcq/ZSdgTZXPIdUr/",
      "include_colab_link": true
    },
    "kernelspec": {
      "name": "python3",
      "display_name": "Python 3"
    },
    "language_info": {
      "name": "python"
    }
  },
  "cells": [
    {
      "cell_type": "markdown",
      "metadata": {
        "id": "view-in-github",
        "colab_type": "text"
      },
      "source": [
        "<a href=\"https://colab.research.google.com/github/juniomuniz/Logical-Python-/blob/main/Fun%C3%A7oes_simbolos.ipynb\" target=\"_parent\"><img src=\"https://colab.research.google.com/assets/colab-badge.svg\" alt=\"Open In Colab\"/></a>"
      ]
    },
    {
      "cell_type": "code",
      "metadata": {
        "colab": {
          "base_uri": "https://localhost:8080/"
        },
        "id": "s4ipYd61DSjC",
        "outputId": "37d8281f-5863-4724-b634-8dc0d9055668"
      },
      "source": [
        "def soma(a, b, imprime = False):\n",
        "   s = a + b\n",
        "   if imprime:\n",
        "       print(\"valor da soma = \", s)\n",
        "   return s \n",
        "print(\"soma sem parametro opcional \", soma(2,3))\n",
        "print(\"soma com parametros opcional \", soma(-6, 3, True))\n",
        "print(\"soma com parametros opcionais \", soma(0, -1,False), \"\\n\")\n",
        "\n",
        "def forma(largura, altura, constroi_com = \"-\"):\n",
        "    print(\"CONTRUINDO RETANGULO\")\n",
        "    linha = constroi_com * largura\n",
        "    for j in range(altura):\n",
        "        print(linha)\n",
        "\n",
        "print(\"\\npode-se somente passar os valores\")\n",
        "forma(5, 6,'&')\n",
        "print(\"\\nnomeando os somente passar os valores\")\n",
        "forma(altura = 3, largura = 4, constroi_com = '%')\n",
        "print(\"\\nespecificando o parametro opcional os outros parametros devem ser nomeados e este nao pecisaraser o ultimo\")\n",
        "forma(altura = 8, constroi_com = \"*\", largura = 7)"
      ],
      "execution_count": 26,
      "outputs": [
        {
          "output_type": "stream",
          "name": "stdout",
          "text": [
            "soma sem parametro opcional  5\n",
            "valor da soma =  -3\n",
            "soma com parametros opcional  -3\n",
            "soma com parametros opcionais  -1 \n",
            "\n",
            "\n",
            "pode-se somente passar os valores\n",
            "CONTRUINDO RETANGULO\n",
            "&&&&&\n",
            "&&&&&\n",
            "&&&&&\n",
            "&&&&&\n",
            "&&&&&\n",
            "&&&&&\n",
            "\n",
            "nomeando os somente passar os valores\n",
            "CONTRUINDO RETANGULO\n",
            "%%%%\n",
            "%%%%\n",
            "%%%%\n",
            "\n",
            "especificando o parametro opcional os outros parametros devem ser nomeados e este nao pecisaraser o ultimo\n",
            "CONTRUINDO RETANGULO\n",
            "*******\n",
            "*******\n",
            "*******\n",
            "*******\n",
            "*******\n",
            "*******\n",
            "*******\n",
            "*******\n"
          ]
        }
      ]
    },
    {
      "cell_type": "code",
      "metadata": {
        "id": "EKbLl-PzFmHM"
      },
      "source": [
        ""
      ],
      "execution_count": null,
      "outputs": []
    }
  ]
}