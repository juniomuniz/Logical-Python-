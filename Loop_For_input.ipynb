{
  "nbformat": 4,
  "nbformat_minor": 0,
  "metadata": {
    "colab": {
      "name": "Loop_For_input.ipynb",
      "provenance": [],
      "authorship_tag": "ABX9TyNkrlUIqp7DVA7YAZuD7+Bd",
      "include_colab_link": true
    },
    "kernelspec": {
      "name": "python3",
      "display_name": "Python 3"
    },
    "language_info": {
      "name": "python"
    }
  },
  "cells": [
    {
      "cell_type": "markdown",
      "metadata": {
        "id": "view-in-github",
        "colab_type": "text"
      },
      "source": [
        "<a href=\"https://colab.research.google.com/github/juniomuniz/Logical-Python-/blob/main/Loop_For_input.ipynb\" target=\"_parent\"><img src=\"https://colab.research.google.com/assets/colab-badge.svg\" alt=\"Open In Colab\"/></a>"
      ]
    },
    {
      "cell_type": "markdown",
      "metadata": {
        "id": "4bJtPhUrGg7M"
      },
      "source": [
        "#Loop For Input"
      ]
    },
    {
      "cell_type": "code",
      "metadata": {
        "colab": {
          "base_uri": "https://localhost:8080/"
        },
        "id": "_rqqJUwZDn93",
        "outputId": "07106fef-f494-4c9f-a422-ce70b2b06914"
      },
      "source": [
        "s = 0 \n",
        "for i in range(0,3):\n",
        "   n = int(input('Digite um valor'))\n",
        "   s+= n\n",
        "print(\"O somatorio de todos od valores foi {}\".format(s))"
      ],
      "execution_count": 5,
      "outputs": [
        {
          "output_type": "stream",
          "name": "stdout",
          "text": [
            "Digite um valor5\n",
            "Digite um valor6\n",
            "Digite um valor7\n",
            "O somatorio de todos od valores foi 18\n"
          ]
        }
      ]
    },
    {
      "cell_type": "code",
      "metadata": {
        "id": "le6_a6bkERCk"
      },
      "source": [
        ""
      ],
      "execution_count": 2,
      "outputs": []
    }
  ]
}