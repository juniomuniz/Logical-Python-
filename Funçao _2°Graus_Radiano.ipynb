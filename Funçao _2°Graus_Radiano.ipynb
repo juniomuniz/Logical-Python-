{
  "nbformat": 4,
  "nbformat_minor": 0,
  "metadata": {
    "colab": {
      "name": "Untitled13.ipynb",
      "provenance": [],
      "authorship_tag": "ABX9TyPtUGilcvQt4MaR6D4RGWiF",
      "include_colab_link": true
    },
    "kernelspec": {
      "name": "python3",
      "display_name": "Python 3"
    },
    "language_info": {
      "name": "python"
    }
  },
  "cells": [
    {
      "cell_type": "markdown",
      "metadata": {
        "id": "view-in-github",
        "colab_type": "text"
      },
      "source": [
        "<a href=\"https://colab.research.google.com/github/juniomuniz/Logical-Python-/blob/main/Fun%C3%A7ao%20_2%C2%B0Graus_Radiano.ipynb\" target=\"_parent\"><img src=\"https://colab.research.google.com/assets/colab-badge.svg\" alt=\"Open In Colab\"/></a>"
      ]
    },
    {
      "cell_type": "code",
      "metadata": {
        "colab": {
          "base_uri": "https://localhost:8080/"
        },
        "id": "s4ipYd61DSjC",
        "outputId": "e7dc4eaf-036d-4357-e7aa-28f1b87dab0b"
      },
      "source": [
        "pi = 3.1416\n",
        "print(\"\\n\")\n",
        "\n",
        "def converte_radiano(graus):\n",
        "  pi = 3.14\n",
        "  radianos = (graus*pi)/180\n",
        "  print(\"O valor da variavel local PI = \", pi)\n",
        "  #-----------------------------------------------------------\n",
        "  print(\"Alterando o valor da variavel global - 'variavel _global'\")\n",
        "  global variavel_global \n",
        "  variavel_global = \"escopo de variaveis\"\n",
        "  print(\"Novo valor da variavel global = 'variavel_global' , variavel_global\")\n",
        "  return radianos\n",
        "  #-----------------------------------------------------------\n",
        "\n",
        "print(\"360° equivalente a \", converte_radiano(360), \"radianos\")\n",
        "print(\"\\n O VALOR GLOBAL DE PI É ALTERADO PELA FUNÇAO 'converte_radiano'\\ne continua PI =\", pi)"
      ],
      "execution_count": 6,
      "outputs": [
        {
          "output_type": "stream",
          "name": "stdout",
          "text": [
            "\n",
            "\n",
            "O valor da variavel local PI =  3.14\n",
            "Alterando o valor da variavel global - 'variavel _global'\n",
            "Novo valor da variavel global = 'variavel_global' , variavel_global\n",
            "360° equivalente a  6.28 radianos\n",
            "\n",
            " O VALOR GLOBAL DE PI É ALTERADO PELA FUNÇAO 'converte_radiano'\n",
            "e continua PI = 3.1416\n"
          ]
        }
      ]
    },
    {
      "cell_type": "code",
      "metadata": {
        "id": "EKbLl-PzFmHM"
      },
      "source": [
        ""
      ],
      "execution_count": null,
      "outputs": []
    }
  ]
}