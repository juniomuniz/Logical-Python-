{
  "nbformat": 4,
  "nbformat_minor": 0,
  "metadata": {
    "colab": {
      "name": "IF_ELSE.ipynb",
      "provenance": [],
      "authorship_tag": "ABX9TyMR7f2gIw0xEqLOXtEsZmgq",
      "include_colab_link": true
    },
    "kernelspec": {
      "name": "python3",
      "display_name": "Python 3"
    },
    "language_info": {
      "name": "python"
    }
  },
  "cells": [
    {
      "cell_type": "markdown",
      "metadata": {
        "id": "view-in-github",
        "colab_type": "text"
      },
      "source": [
        "<a href=\"https://colab.research.google.com/github/juniomuniz/Logical-Python-/blob/main/IF_ELSE.ipynb\" target=\"_parent\"><img src=\"https://colab.research.google.com/assets/colab-badge.svg\" alt=\"Open In Colab\"/></a>"
      ]
    },
    {
      "cell_type": "markdown",
      "metadata": {
        "id": "NM57vcOlZS2m"
      },
      "source": [
        "# Boolean leap year \n",
        "\n"
      ]
    },
    {
      "cell_type": "code",
      "metadata": {
        "id": "4PUuL2OeZON1"
      },
      "source": [
        "\"\"\"In the Gregorian calendar, three conditions are used to identify leap years:\n",
        "\n",
        "The year can be evenly divided by 4, is a leap year, unless:\n",
        "The year can be evenly divided by 100, it is NOT a leap year, unless:\n",
        "The year is also evenly divisible by 400. Then it is a leap year.\n",
        "This means that in the Gregorian calendar, the years 2000 and 2400 are leap years, while 1800, 1900, 2100, 2200, 2300 and 2500 are NOT leap years. Source\n",
        "\n",
        "Task\n",
        "\n",
        "Given a year, determine whether it is a leap year. If it is a leap year, return the Boolean True, otherwise return False.\n",
        "\n",
        "Note that the code stub provided reads from STDIN and passes arguments to the is_leap function. It is only necessary to complete the is_leap function.\n",
        "\n",
        "Input Format\n",
        "\n",
        "Read , the year to test.\"\"\""
      ],
      "execution_count": null,
      "outputs": []
    },
    {
      "cell_type": "code",
      "metadata": {
        "colab": {
          "base_uri": "https://localhost:8080/"
        },
        "id": "FplyJojhNjss",
        "outputId": "4985ea5f-b79a-469d-944a-c6f95300fd33"
      },
      "source": [
        "def is_leap(year):\n",
        "    leap = False\n",
        "    \n",
        "    if  (year % 100 != 0 or year % 400 == 0) and year % 4 ==0:\n",
        "\n",
        "      leap = True\n",
        "    else: \n",
        "       leap = False\n",
        "    \n",
        "    return leap\n",
        "\n",
        "year = int(input())\n",
        "print(is_leap(year))"
      ],
      "execution_count": 19,
      "outputs": [
        {
          "output_type": "stream",
          "name": "stdout",
          "text": [
            "2000\n",
            "True\n"
          ]
        }
      ]
    },
    {
      "cell_type": "code",
      "metadata": {
        "id": "OkCt07CTTo6T"
      },
      "source": [
        ""
      ],
      "execution_count": null,
      "outputs": []
    }
  ]
}