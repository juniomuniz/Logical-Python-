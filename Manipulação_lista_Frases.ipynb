{
  "nbformat": 4,
  "nbformat_minor": 0,
  "metadata": {
    "colab": {
      "name": "Untitled19.ipynb",
      "provenance": [],
      "authorship_tag": "ABX9TyPU85sYuYRgXCmdhCzmslwl",
      "include_colab_link": true
    },
    "kernelspec": {
      "name": "python3",
      "display_name": "Python 3"
    },
    "language_info": {
      "name": "python"
    }
  },
  "cells": [
    {
      "cell_type": "markdown",
      "metadata": {
        "id": "view-in-github",
        "colab_type": "text"
      },
      "source": [
        "<a href=\"https://colab.research.google.com/github/juniomuniz/Logical-Python-/blob/main/Manipula%C3%A7%C3%A3o_lista_Frases.ipynb\" target=\"_parent\"><img src=\"https://colab.research.google.com/assets/colab-badge.svg\" alt=\"Open In Colab\"/></a>"
      ]
    },
    {
      "cell_type": "code",
      "metadata": {
        "colab": {
          "base_uri": "https://localhost:8080/"
        },
        "id": "oVMj4Nd14v4I",
        "outputId": "1afaf5ab-6699-4620-e00b-2cb47a83ac92"
      },
      "source": [
        "frase = ['de cinema)', 'que satisfaça o contexto', 'sequenciamento de listas', 'para mostrar', 'a seqüência dos', 'no console', '(para quem gosta', 'contida na mesma', 'elementos da lista', 'Utilizar o', 'da frase', 'do significado']\n",
        "lenght = len(frase)\n",
        "print(f'{lenght} Elementos')\n",
        "print(\"\\n A frase ordenada é:\",\"\", frase[9],\"\", frase[2],\"\",frase[3],\"\",frase[4],\"\", frase[5],\"\", frase[4]\n",
        "      ,\"\",frase[8],\"\", frase[1], \"\", frase[11],\"\", frase[10],\"\", frase[7],\"\", frase[6],\"\", frase[0])"
      ],
      "execution_count": null,
      "outputs": [
        {
          "output_type": "stream",
          "name": "stdout",
          "text": [
            "12 Elementos\n",
            "\n",
            " A frase ordenada é:  Utilizar o  sequenciamento de listas  para mostrar  a seqüência dos  no console  a seqüência dos  elementos da lista  que satisfaça o contexto  do significado  da frase  contida na mesma  (para quem gosta  de cinema)\n"
          ]
        }
      ]
    },
    {
      "cell_type": "code",
      "metadata": {
        "id": "h1O91nd1S9Y7"
      },
      "source": [
        ""
      ],
      "execution_count": null,
      "outputs": []
    },
    {
      "cell_type": "code",
      "metadata": {
        "id": "JvMKuEL8GiA6"
      },
      "source": [
        "#Utilizar o sequenciamento de listas para mostrar no console a seqüência dos elementos da lista que satisfaça o contexto do significado da frase contida na mesma (para quem gosta de cinema)“,"
      ],
      "execution_count": null,
      "outputs": []
    }
  ]
}