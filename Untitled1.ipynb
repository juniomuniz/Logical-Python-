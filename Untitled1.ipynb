{
  "nbformat": 4,
  "nbformat_minor": 0,
  "metadata": {
    "colab": {
      "name": "Untitled1.ipynb",
      "provenance": [],
      "authorship_tag": "ABX9TyOkUMomuxpRVNZ7MbazpZn7",
      "include_colab_link": true
    },
    "kernelspec": {
      "name": "python3",
      "display_name": "Python 3"
    },
    "language_info": {
      "name": "python"
    }
  },
  "cells": [
    {
      "cell_type": "markdown",
      "metadata": {
        "id": "view-in-github",
        "colab_type": "text"
      },
      "source": [
        "<a href=\"https://colab.research.google.com/github/juniomuniz/Logical-Python-/blob/main/Untitled1.ipynb\" target=\"_parent\"><img src=\"https://colab.research.google.com/assets/colab-badge.svg\" alt=\"Open In Colab\"/></a>"
      ]
    },
    {
      "cell_type": "markdown",
      "metadata": {
        "id": "NtpWYTi1lydH"
      },
      "source": [
        "# Python If-Else"
      ]
    },
    {
      "cell_type": "code",
      "metadata": {
        "id": "NQymcQXLltQT"
      },
      "source": [
        "\n",
        "# Task \n",
        "# Given an integer, n, perform the following conditional actions:\n",
        "# If n is odd, print Weird\n",
        "# If n is even and in the inclusive range of 2 to 5, print Not Weird\n",
        "# If n is even and in the inclusive range of 6 to 20, print Weird\n",
        "# If n is even and greater than 20, print Not Weird\n",
        "\n",
        "# Input Format\n",
        "# A single line containing a positive integer, n.\n",
        "\n",
        "# Constraints\n",
        "# 1 <= n <= 100\n",
        "\n",
        "# Output Format\n",
        "# Print Weird if the number is weird; otherwise, print Not Weird.\n"
      ],
      "execution_count": null,
      "outputs": []
    },
    {
      "cell_type": "code",
      "metadata": {
        "id": "e4H2EVDll_56"
      },
      "source": [
        ""
      ],
      "execution_count": null,
      "outputs": []
    },
    {
      "cell_type": "code",
      "metadata": {
        "colab": {
          "base_uri": "https://localhost:8080/"
        },
        "id": "psScCht9ec_P",
        "outputId": "69b65718-2986-4bd3-a985-956d17e721d7"
      },
      "source": [
        "n = int(input().strip())\n",
        "if (n % 2) != 0:\n",
        "   print(\"Weird\")\n",
        "else:\n",
        "  if 2 <= n <= 5 :\n",
        "    print(\"Not Weird\")\n",
        "  elif 6 <= n <= 20:\n",
        "    print(\"Weird\")\n",
        "  elif 20 < n :\n",
        "    print('Not Weird')"
      ],
      "execution_count": 8,
      "outputs": [
        {
          "output_type": "stream",
          "name": "stdout",
          "text": [
            "9\n",
            "Weird\n"
          ]
        }
      ]
    },
    {
      "cell_type": "code",
      "metadata": {
        "id": "-L_Sf_Coenvz"
      },
      "source": [
        ""
      ],
      "execution_count": null,
      "outputs": []
    }
  ]
}