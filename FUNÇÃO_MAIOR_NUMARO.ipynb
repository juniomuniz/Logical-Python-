{
  "nbformat": 4,
  "nbformat_minor": 0,
  "metadata": {
    "colab": {
      "name": "Untitled13.ipynb",
      "provenance": [],
      "authorship_tag": "ABX9TyOQbHg83xeUY8+Ooe9xhpnz",
      "include_colab_link": true
    },
    "kernelspec": {
      "name": "python3",
      "display_name": "Python 3"
    },
    "language_info": {
      "name": "python"
    }
  },
  "cells": [
    {
      "cell_type": "markdown",
      "metadata": {
        "id": "view-in-github",
        "colab_type": "text"
      },
      "source": [
        "<a href=\"https://colab.research.google.com/github/juniomuniz/Logical-Python-/blob/main/FUN%C3%87%C3%83O_MAIOR_NUMARO.ipynb\" target=\"_parent\"><img src=\"https://colab.research.google.com/assets/colab-badge.svg\" alt=\"Open In Colab\"/></a>"
      ]
    },
    {
      "cell_type": "code",
      "metadata": {
        "colab": {
          "base_uri": "https://localhost:8080/"
        },
        "id": "s4ipYd61DSjC",
        "outputId": "b076f7be-0b74-4c12-c322-bc54b9bf8411"
      },
      "source": [
        "def maior_dois(a, b):\n",
        "   if a > b:\n",
        "      return a\n",
        "   if b > a:\n",
        "     return b\n",
        "   else: \n",
        "      g = a \n",
        "      print(\"nao ha maior, todos valores iguais\")\n",
        "      return g \n",
        "def maior_tres(c, d, e):\n",
        "  f = maior_dois(c,d)\n",
        "  g = maior_dois(e, f)\n",
        "  return g \n",
        "\n",
        "print(\" MAIOR ENTRE 3 E 7 = \", maior_dois(3, 7))\n",
        "print(\"MAIOR ENTRE 0 E -8 = \", maior_dois(-8, 0))\n",
        "print(\"MAIOR ENTRE -10, 18 e 1 = \", maior_tres(-10, 1, 18))\n",
        "print(\"MAIOR ENTRE -5, -5 e -5 = \", maior_tres(-5, -5, -5))\n",
        "print(\"MAIOR ENTRE 1, 2 e 3 = \", maior_tres(3, 2, 1 ))"
      ],
      "execution_count": 12,
      "outputs": [
        {
          "output_type": "stream",
          "name": "stdout",
          "text": [
            " MAIOR ENTRE 3 E 7 =  7\n",
            "MAIOR ENTRE 0 E -8 =  0\n",
            "MAIOR ENTRE -10, 18 e 1 =  18\n",
            "nao ha maior, todos valores iguais\n",
            "nao ha maior, todos valores iguais\n",
            "MAIOR ENTRE -5, -5 e -5 =  -5\n",
            "MAIOR ENTRE 1, 2 e 3 =  3\n"
          ]
        }
      ]
    },
    {
      "cell_type": "code",
      "metadata": {
        "id": "EKbLl-PzFmHM"
      },
      "source": [
        ""
      ],
      "execution_count": null,
      "outputs": []
    }
  ]
}