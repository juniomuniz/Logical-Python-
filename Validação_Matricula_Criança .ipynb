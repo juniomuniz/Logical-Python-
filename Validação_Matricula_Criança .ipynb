{
  "nbformat": 4,
  "nbformat_minor": 0,
  "metadata": {
    "colab": {
      "name": "Untitled13.ipynb",
      "provenance": [],
      "authorship_tag": "ABX9TyPa/G4nmIUnw05z4ueK7ror",
      "include_colab_link": true
    },
    "kernelspec": {
      "name": "python3",
      "display_name": "Python 3"
    },
    "language_info": {
      "name": "python"
    }
  },
  "cells": [
    {
      "cell_type": "markdown",
      "metadata": {
        "id": "view-in-github",
        "colab_type": "text"
      },
      "source": [
        "<a href=\"https://colab.research.google.com/github/juniomuniz/Logical-Python-/blob/main/Valida%C3%A7%C3%A3o_Matricula_Crian%C3%A7a%20.ipynb\" target=\"_parent\"><img src=\"https://colab.research.google.com/assets/colab-badge.svg\" alt=\"Open In Colab\"/></a>"
      ]
    },
    {
      "cell_type": "code",
      "metadata": {
        "colab": {
          "base_uri": "https://localhost:8080/"
        },
        "id": "s4ipYd61DSjC",
        "outputId": "c389525e-6238-4540-83ab-05f9953bb0d7"
      },
      "source": [
        "def valida_data(ano_nascimento, minimo, maximo):\n",
        "  while True:\n",
        "      if ano_nascimento < minimo or ano_nascimento > maximo:\n",
        "        print(f\"criança com idade nao permitida para matricula: ano de nascimento deve ser maior {minimo} e menor {maximo}\")\n",
        "        return False\n",
        "      else:\n",
        "        return True\n",
        "print(\"SERVIÇO DE MATRICULA NA ESCOLA\")\n",
        "nome = input(\"ENTRAR COM O NOME DA CRIANÇA\")\n",
        "min = int(input(\"entre com o ano limite minimo para matriculo \"))\n",
        "max = int(input(\"Entre com o ano limite maximo para matriculo \"))\n",
        "ano = int(input(\"Entre com o ano de nascimento        \"))\n",
        "validade_matricula = valida_data(ano, min, max )\n",
        "if valida_matricula:\n",
        "   print(\"A criança\", nome ,\"teve a matrila efetuada\")\n",
        "else:  \n",
        "  print(\"A criança \", nome ,\"nao teve a matricula efetuada porque esta fora da idade permitida\")\n",
        "\n"
      ],
      "execution_count": null,
      "outputs": [
        {
          "name": "stdout",
          "output_type": "stream",
          "text": [
            "SERVIÇO DE MATRICULA NA ESCOLA\n",
            "ENTRAR COM O NOME DA CRIANÇAEmillyn\n",
            "entre com o ano limite minimo para matriculo 2000\n"
          ]
        }
      ]
    },
    {
      "cell_type": "code",
      "metadata": {
        "id": "EKbLl-PzFmHM"
      },
      "source": [
        ""
      ],
      "execution_count": null,
      "outputs": []
    }
  ]
}