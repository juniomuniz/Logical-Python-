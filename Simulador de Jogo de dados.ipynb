{
  "nbformat": 4,
  "nbformat_minor": 0,
  "metadata": {
    "colab": {
      "name": "Untitled22.ipynb",
      "provenance": [],
      "authorship_tag": "ABX9TyPf9w/TaclJDHWt4lsyeCZd",
      "include_colab_link": true
    },
    "kernelspec": {
      "name": "python3",
      "display_name": "Python 3"
    },
    "language_info": {
      "name": "python"
    }
  },
  "cells": [
    {
      "cell_type": "markdown",
      "metadata": {
        "id": "view-in-github",
        "colab_type": "text"
      },
      "source": [
        "<a href=\"https://colab.research.google.com/github/juniomuniz/Logical-Python-/blob/main/Simulador%20de%20Jogo%20de%20dados.ipynb\" target=\"_parent\"><img src=\"https://colab.research.google.com/assets/colab-badge.svg\" alt=\"Open In Colab\"/></a>"
      ]
    },
    {
      "cell_type": "code",
      "metadata": {
        "colab": {
          "base_uri": "https://localhost:8080/"
        },
        "id": "VRcU9ygaYOKI",
        "outputId": "52f5a6b2-a180-4eb3-f9d0-df9accbc16a0"
      },
      "source": [
        "import random \n",
        "#input \n",
        "c = 0\n",
        "print(\"Jogue os dados\")\n",
        "for c in range(0, 3):\n",
        "  #r = input(\"quer jogar dados ?\")\n",
        "  a = random.randint(1, 6)\n",
        "  print(f'{c + 1 }° Jogada',f'--- {a} ---')\n",
        "  c = c + 1 \n",
        "\n"
      ],
      "execution_count": null,
      "outputs": [
        {
          "output_type": "stream",
          "name": "stdout",
          "text": [
            "Jogue os dados\n",
            "1° Jogada --- 6 ---\n",
            "2° Jogada --- 2 ---\n",
            "3° Jogada --- 4 ---\n"
          ]
        }
      ]
    },
    {
      "cell_type": "code",
      "metadata": {
        "id": "bb6UaS0BklEb"
      },
      "source": [
        ""
      ],
      "execution_count": null,
      "outputs": []
    }
  ]
}