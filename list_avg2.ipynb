{
  "nbformat": 4,
  "nbformat_minor": 0,
  "metadata": {
    "colab": {
      "name": "list avg2.ipynb",
      "provenance": [],
      "authorship_tag": "ABX9TyMA1PoTtvE+6AROFCIfNTtL",
      "include_colab_link": true
    },
    "kernelspec": {
      "name": "python3",
      "display_name": "Python 3"
    },
    "language_info": {
      "name": "python"
    }
  },
  "cells": [
    {
      "cell_type": "markdown",
      "metadata": {
        "id": "view-in-github",
        "colab_type": "text"
      },
      "source": [
        "<a href=\"https://colab.research.google.com/github/juniomuniz/Logical-Python-/blob/main/list_avg2.ipynb\" target=\"_parent\"><img src=\"https://colab.research.google.com/assets/colab-badge.svg\" alt=\"Open In Colab\"/></a>"
      ]
    },
    {
      "cell_type": "code",
      "metadata": {
        "colab": {
          "base_uri": "https://localhost:8080/"
        },
        "id": "FHn4AzyZ9Wu2",
        "outputId": "09f61a9e-fffa-4004-8afd-a409fd27fe97"
      },
      "source": [
        "notas= [4.7, 5.6, 8.9, 3.5, 6.6, 7.4, 8.0, 9.5]\n",
        "soma = 0.0\n",
        "i = 0\n",
        "while i < 8:\n",
        " notas[i] = float(input(f\"entrar com o valor da nota {i}:\"))\n",
        " soma += notas[i]\n",
        " i +=1\n",
        " print(\"valor parcial da somadas notas =\",soma)\n",
        "print(f\"media:{soma/i: 5.2f}\")\n"
      ],
      "execution_count": 2,
      "outputs": [
        {
          "output_type": "stream",
          "name": "stdout",
          "text": [
            "entrar com o valor da nota 0:6.5\n",
            "valor parcial da somadas notas = 6.5\n",
            "entrar com o valor da nota 1:1.9\n",
            "valor parcial da somadas notas = 8.4\n",
            "entrar com o valor da nota 2:4.8\n",
            "valor parcial da somadas notas = 13.2\n",
            "entrar com o valor da nota 3:7\n",
            "valor parcial da somadas notas = 20.2\n",
            "entrar com o valor da nota 4:5.5\n",
            "valor parcial da somadas notas = 25.7\n",
            "entrar com o valor da nota 5:6\n",
            "valor parcial da somadas notas = 31.7\n",
            "entrar com o valor da nota 6:8\n",
            "valor parcial da somadas notas = 39.7\n",
            "entrar com o valor da nota 7:7\n",
            "valor parcial da somadas notas = 46.7\n",
            "media: 5.84\n"
          ]
        }
      ]
    }
  ]
}