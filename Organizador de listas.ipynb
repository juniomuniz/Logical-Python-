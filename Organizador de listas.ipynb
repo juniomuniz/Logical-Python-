{
  "nbformat": 4,
  "nbformat_minor": 0,
  "metadata": {
    "colab": {
      "provenance": [],
      "authorship_tag": "ABX9TyOK6/oXAvt8PEAmKWetEK0+",
      "include_colab_link": true
    },
    "kernelspec": {
      "name": "python3",
      "display_name": "Python 3"
    },
    "language_info": {
      "name": "python"
    }
  },
  "cells": [
    {
      "cell_type": "markdown",
      "metadata": {
        "id": "view-in-github",
        "colab_type": "text"
      },
      "source": [
        "<a href=\"https://colab.research.google.com/github/juniomuniz/Logical-Python-/blob/main/Organizador%20de%20listas.ipynb\" target=\"_parent\"><img src=\"https://colab.research.google.com/assets/colab-badge.svg\" alt=\"Open In Colab\"/></a>"
      ]
    },
    {
      "cell_type": "code",
      "execution_count": null,
      "metadata": {
        "colab": {
          "base_uri": "https://localhost:8080/"
        },
        "id": "sP6kheGz97Uh",
        "outputId": "398fc316-7e41-4d12-d328-7542184ec3b5"
      },
      "outputs": [
        {
          "output_type": "stream",
          "name": "stdout",
          "text": [
            "[2, 5, 4, 6, 1, 3]\n"
          ]
        }
      ],
      "source": [
        "a = [5, 2, 4, 6, 1, 3]\n",
        "j = 1\n",
        "temporario = a[1]\n",
        "i = j -1 \n",
        "while i >= 0 and a[i] > temporario:\n",
        "    #if i = 0 and a[0] = 5 > temporario\n",
        "     a[i + 1] = a[i]\n",
        "     i = i - 1\n",
        "     \n",
        "a[-1 +1] = temporario \n",
        "print(a)"
      ]
    },
    {
      "cell_type": "code",
      "source": [
        "n = 11\n",
        "s = [x for x in range(n)]\n",
        "j = 1\n",
        "print(s)\n",
        "temporario = s[1]\n",
        "i = j -1 \n",
        "while i >= 0 and s[i] > temporario:\n",
        "    #if i = 0 and a[0] = 5 > temporario\n",
        "     s[i + 1] = s[i]\n",
        "     i = i - 1\n",
        "     \n",
        "s[-1 +1] = temporario \n",
        "print(s)"
      ],
      "metadata": {
        "colab": {
          "base_uri": "https://localhost:8080/"
        },
        "id": "3tCnP0LBDIXt",
        "outputId": "1e5604cf-c545-4a48-aefe-b676c660475d"
      },
      "execution_count": null,
      "outputs": [
        {
          "output_type": "stream",
          "name": "stdout",
          "text": [
            "[0, 1, 2, 3, 4, 5, 6, 7, 8, 9, 10]\n",
            "[1, 1, 2, 3, 4, 5, 6, 7, 8, 9, 10]\n"
          ]
        }
      ]
    },
    {
      "cell_type": "code",
      "source": [
        "m = 11\n",
        "e = [x for x in range (m)]\n",
        "print(e)\n",
        "for i in range(0, int((m/2))):\n",
        "  temporario = e[i]\n",
        "  e[i] = e[(n-1) -i]\n",
        "  e[(n-1) -i ] = temporario\n",
        "\n",
        "print(e)"
      ],
      "metadata": {
        "colab": {
          "base_uri": "https://localhost:8080/"
        },
        "id": "z-lTS64vIAxj",
        "outputId": "0d834bdc-5014-46bb-8eb9-f6cb3d44410a"
      },
      "execution_count": null,
      "outputs": [
        {
          "output_type": "stream",
          "name": "stdout",
          "text": [
            "[0, 1, 2, 3, 4, 5, 6, 7, 8, 9, 10]\n",
            "[10, 9, 8, 7, 6, 5, 4, 3, 2, 1, 0]\n"
          ]
        }
      ]
    },
    {
      "cell_type": "code",
      "source": [
        "from random import shuffle\n",
        "import random\n",
        "import time\n",
        "tempo_incial = time.time()\n",
        "n = random.randint(1,2000)\n",
        "a = [x for x in range(n)]\n",
        "\n",
        "print(f\"A lista contem {len(a)} numeros \")\n",
        "#print(\"first list\", a)\n",
        "\n",
        "shuffle(a)\n",
        "print(\"Lista embaralhada\", a)\n",
        "for p in range(1):\n",
        "  for j in range(1, len(a)):\n",
        "    temporario = a[j]\n",
        "    i = j - 1\n",
        "    while i >= 0 and a[i] > temporario:\n",
        "      a[i +1] = a[i]\n",
        "      i = i -1\n",
        "      a[ i + 1] = temporario\n",
        "print(\"Lista Organizada \",a)\n",
        "tempo_final = time.time()\n",
        "tempo = round(tempo_final - tempo_incial,4)\n",
        "\n",
        "print(f\"Tempo decorrido  =  {tempo} segundos \" )\n"
      ],
      "metadata": {
        "colab": {
          "base_uri": "https://localhost:8080/"
        },
        "id": "OZ4AKoTGRb6w",
        "outputId": "dd24697f-1e39-44f1-e8e2-7b61d247cd6c"
      },
      "execution_count": null,
      "outputs": [
        {
          "output_type": "stream",
          "name": "stdout",
          "text": [
            "A lista contem 162 numeros \n",
            "Lista embaralhada [144, 85, 95, 58, 50, 68, 12, 40, 46, 76, 35, 131, 21, 78, 147, 17, 86, 103, 119, 96, 31, 61, 60, 116, 90, 57, 24, 30, 7, 97, 107, 25, 73, 59, 134, 143, 82, 93, 26, 53, 154, 20, 8, 34, 138, 28, 151, 155, 9, 145, 10, 137, 152, 72, 87, 65, 55, 92, 38, 99, 128, 43, 112, 13, 83, 29, 1, 16, 63, 4, 3, 105, 101, 69, 104, 121, 84, 149, 2, 146, 0, 52, 47, 51, 45, 157, 22, 49, 6, 67, 48, 122, 56, 129, 71, 136, 14, 141, 124, 148, 41, 100, 120, 126, 5, 36, 108, 15, 161, 79, 150, 111, 27, 11, 74, 18, 77, 62, 123, 42, 33, 153, 113, 109, 159, 114, 140, 54, 106, 91, 23, 139, 118, 39, 80, 64, 98, 66, 94, 89, 156, 32, 132, 88, 115, 130, 81, 110, 158, 44, 142, 117, 70, 37, 135, 125, 102, 127, 19, 160, 75, 133]\n",
            "Lista Organizada  [0, 1, 2, 3, 4, 5, 6, 7, 8, 9, 10, 11, 12, 13, 14, 15, 16, 17, 18, 19, 20, 21, 22, 23, 24, 25, 26, 27, 28, 29, 30, 31, 32, 33, 34, 35, 36, 37, 38, 39, 40, 41, 42, 43, 44, 45, 46, 47, 48, 49, 50, 51, 52, 53, 54, 55, 56, 57, 58, 59, 60, 61, 62, 63, 64, 65, 66, 67, 68, 69, 70, 71, 72, 73, 74, 75, 76, 77, 78, 79, 80, 81, 82, 83, 84, 85, 86, 87, 88, 89, 90, 91, 92, 93, 94, 95, 96, 97, 98, 99, 100, 101, 102, 103, 104, 105, 106, 107, 108, 109, 110, 111, 112, 113, 114, 115, 116, 117, 118, 119, 120, 121, 122, 123, 124, 125, 126, 127, 128, 129, 130, 131, 132, 133, 134, 135, 136, 137, 138, 139, 140, 141, 142, 143, 144, 145, 146, 147, 148, 149, 150, 151, 152, 153, 154, 155, 156, 157, 158, 159, 160, 161]\n",
            "Tempo decorrido  =  0.0139 segundos \n"
          ]
        }
      ]
    }
  ]
}