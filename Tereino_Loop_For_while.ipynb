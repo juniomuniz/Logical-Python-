{
  "nbformat": 4,
  "nbformat_minor": 0,
  "metadata": {
    "colab": {
      "name": "Untitled11.ipynb",
      "provenance": [],
      "authorship_tag": "ABX9TyMuE387Ur7t4X3XPz3KXTm8",
      "include_colab_link": true
    },
    "kernelspec": {
      "name": "python3",
      "display_name": "Python 3"
    },
    "language_info": {
      "name": "python"
    }
  },
  "cells": [
    {
      "cell_type": "markdown",
      "metadata": {
        "id": "view-in-github",
        "colab_type": "text"
      },
      "source": [
        "<a href=\"https://colab.research.google.com/github/juniomuniz/Logical-Python-/blob/main/Tereino_Loop_For_while.ipynb\" target=\"_parent\"><img src=\"https://colab.research.google.com/assets/colab-badge.svg\" alt=\"Open In Colab\"/></a>"
      ]
    },
    {
      "cell_type": "code",
      "metadata": {
        "id": "1kErBvlP7Lev"
      },
      "source": [
        "for x in range(5,11,2):\n",
        "print()"
      ],
      "execution_count": 10,
      "outputs": []
    },
    {
      "cell_type": "code",
      "metadata": {
        "colab": {
          "base_uri": "https://localhost:8080/"
        },
        "id": "SzkCzasi-YQG",
        "outputId": "febcd487-c144-4c07-d251-6e98b1c2aa33"
      },
      "source": [
        "for w in range(0,51,5):\n",
        "   print(w)"
      ],
      "execution_count": 13,
      "outputs": [
        {
          "output_type": "stream",
          "name": "stdout",
          "text": [
            "0\n",
            "5\n",
            "10\n",
            "15\n",
            "20\n",
            "25\n",
            "30\n",
            "35\n",
            "40\n",
            "45\n",
            "50\n"
          ]
        }
      ]
    },
    {
      "cell_type": "code",
      "metadata": {
        "colab": {
          "base_uri": "https://localhost:8080/"
        },
        "id": "HY2bYPs8OKpd",
        "outputId": "a8dbdaa9-c6a7-4bb4-d6ff-76d1b392f49d"
      },
      "source": [
        "c = ''\n",
        "while(c != 's'):\n",
        "     print('a. Pagar')\n",
        "     print('b. Receber')\n",
        "     print('c. Consultar')\n",
        "     print('s. Sair')\n",
        "     c = input('Digite a opçao dejada')\n",
        "print('Loop encerrado')\n"
      ],
      "execution_count": 14,
      "outputs": [
        {
          "output_type": "stream",
          "name": "stdout",
          "text": [
            "a. Pagar\n",
            "b. Receber\n",
            "c. Consultar\n",
            "s. Sair\n",
            "Digite a opçao dejadac\n",
            "a. Pagar\n",
            "b. Receber\n",
            "c. Consultar\n",
            "s. Sair\n",
            "Digite a opçao dejadae\n",
            "a. Pagar\n",
            "b. Receber\n",
            "c. Consultar\n",
            "s. Sair\n",
            "Digite a opçao dejadaa\n",
            "a. Pagar\n",
            "b. Receber\n",
            "c. Consultar\n",
            "s. Sair\n",
            "Digite a opçao dejadas\n",
            "Loop encerrado\n"
          ]
        }
      ]
    },
    {
      "cell_type": "code",
      "metadata": {
        "colab": {
          "base_uri": "https://localhost:8080/"
        },
        "id": "HHxZPuwXRoC3",
        "outputId": "6642d929-2923-4e93-84e1-c49ff042893f"
      },
      "source": [
        "var = 20 \n",
        "while (var > 0):\n",
        "  print('O valor de var é: ', var)\n",
        "  var -=1\n",
        "  if(var == 11):\n",
        "    break\n",
        "print('Loop interrompido no valor 11')\n"
      ],
      "execution_count": 15,
      "outputs": [
        {
          "output_type": "stream",
          "name": "stdout",
          "text": [
            "O valor de var é:  20\n",
            "O valor de var é:  19\n",
            "O valor de var é:  18\n",
            "O valor de var é:  17\n",
            "O valor de var é:  16\n",
            "O valor de var é:  15\n",
            "O valor de var é:  14\n",
            "O valor de var é:  13\n",
            "O valor de var é:  12\n",
            "Loop interrompido no valor 11\n"
          ]
        }
      ]
    },
    {
      "cell_type": "code",
      "metadata": {
        "id": "Io0cDle4SYMw"
      },
      "source": [
        ""
      ],
      "execution_count": null,
      "outputs": []
    },
    {
      "cell_type": "code",
      "metadata": {
        "colab": {
          "base_uri": "https://localhost:8080/"
        },
        "id": "6QeiPUnjy6xV",
        "outputId": "e9935c01-2b43-42a7-d8de-da6b27997255"
      },
      "source": [
        ""
      ],
      "execution_count": 13,
      "outputs": [
        {
          "output_type": "stream",
          "name": "stdout",
          "text": [
            "Digite o Raio da circunferencia8\n",
            "uso da variavel global PI  =  3.1416\n",
            "A circunferencia de raio 3 tem area =  201.0624\n",
            "uso da variavel global  PI  =  3.1416\n",
            "A circunferencia de diametro 6 tem comprimento =  50.2656\n"
          ]
        }
      ]
    }
  ]
}