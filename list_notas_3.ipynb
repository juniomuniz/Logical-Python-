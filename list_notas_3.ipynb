{
  "nbformat": 4,
  "nbformat_minor": 0,
  "metadata": {
    "colab": {
      "name": "list notas 3.ipynb",
      "provenance": [],
      "authorship_tag": "ABX9TyNR7vpGDUEOhVgu5HuY0O/q",
      "include_colab_link": true
    },
    "kernelspec": {
      "name": "python3",
      "display_name": "Python 3"
    },
    "language_info": {
      "name": "python"
    }
  },
  "cells": [
    {
      "cell_type": "markdown",
      "metadata": {
        "id": "view-in-github",
        "colab_type": "text"
      },
      "source": [
        "<a href=\"https://colab.research.google.com/github/juniomuniz/Logical-Python-/blob/main/list_notas_3.ipynb\" target=\"_parent\"><img src=\"https://colab.research.google.com/assets/colab-badge.svg\" alt=\"Open In Colab\"/></a>"
      ]
    },
    {
      "cell_type": "code",
      "metadata": {
        "colab": {
          "base_uri": "https://localhost:8080/"
        },
        "id": "rEwQPb_aEH_E",
        "outputId": "a7eb9164-ae98-4616-c6ef-4e3474422d66"
      },
      "source": [
        "notas = [4.7, 5.6, 8.9, 3.5, 6.6, 7.4, 8.0, 9.5]\n",
        "escolha = 0\n",
        "i = 0 \n",
        "while i < 5:\n",
        "  notas[i] = float(input(f\"entrar com uma nota {i + 1 }:\\t\"))\n",
        "  i +=1\n",
        "escolha = int(input(\"Qual nota que deseja ver = ?\"))\n",
        "print(f\"nota escolhida foi a {escolha:}°\")\n",
        "print(\"nota =\", notas[escolha -1 ])\n",
        "\n"
      ],
      "execution_count": 1,
      "outputs": [
        {
          "output_type": "stream",
          "name": "stdout",
          "text": [
            "entrar com uma nota 1:\t8\n",
            "entrar com uma nota 2:\t3\n",
            "entrar com uma nota 3:\t5\n",
            "entrar com uma nota 4:\t3\n",
            "entrar com uma nota 5:\t7\n",
            "Qual nota que deseja ver = ?2\n",
            "nota escolhida foi a 2°\n",
            "nota = 3.0\n"
          ]
        }
      ]
    },
    {
      "cell_type": "code",
      "metadata": {
        "id": "7Psu_V_YUXxS"
      },
      "source": [
        ""
      ],
      "execution_count": null,
      "outputs": []
    }
  ]
}