{
  "nbformat": 4,
  "nbformat_minor": 0,
  "metadata": {
    "colab": {
      "name": " Add and Search in List Employer.ipynb",
      "provenance": [],
      "authorship_tag": "ABX9TyO1njzwBMDg4lO7slC/aBlj",
      "include_colab_link": true
    },
    "kernelspec": {
      "name": "python3",
      "display_name": "Python 3"
    },
    "language_info": {
      "name": "python"
    }
  },
  "cells": [
    {
      "cell_type": "markdown",
      "metadata": {
        "id": "view-in-github",
        "colab_type": "text"
      },
      "source": [
        "<a href=\"https://colab.research.google.com/github/juniomuniz/Logical-Python-/blob/main/Add_and_Search_in_List_Employer.ipynb\" target=\"_parent\"><img src=\"https://colab.research.google.com/assets/colab-badge.svg\" alt=\"Open In Colab\"/></a>"
      ]
    },
    {
      "cell_type": "code",
      "metadata": {
        "id": "gMusS27NtNLN"
      },
      "source": [
        ""
      ],
      "execution_count": 61,
      "outputs": []
    },
    {
      "cell_type": "code",
      "metadata": {
        "id": "A8cD51lXxF4O"
      },
      "source": [
        ""
      ],
      "execution_count": null,
      "outputs": []
    },
    {
      "cell_type": "markdown",
      "metadata": {
        "id": "06T6ijpsJ634"
      },
      "source": [
        "# Add and Search in List Employer"
      ]
    },
    {
      "cell_type": "code",
      "metadata": {
        "id": "9IYta8JoixfE"
      },
      "source": [
        "# create new list from input\n",
        "lista = []\n",
        "salario = []\n",
        "f = int(input(\"Quantos Funcionarios ?\"))\n",
        "print(\"Digite Qunatantidade de Funcionarios de uma Empresa\")\n",
        "i = 1\n",
        "while i <= f:\n",
        "  funci = input('Nome de funcionario\\n')\n",
        "  lista.append(funci)\n",
        "  sal =  float(input('salario dos funcionarios\\n'))\n",
        "  salario.append(sal)\n",
        "  i = i+ 1 \n",
        "print(\"Esta é a lista de Funcionarios\",lista )\n",
        "print(lista,\"\\n\",salario )\n",
        "# search for spacific name \n",
        "flag = True\n",
        "while flag:\n",
        " nome = input(\"Qual funcionario voce deseja saber?\")\n",
        " if nome in lista:\n",
        "   c = lista.index(nome)\n",
        "   print(\"O nome do funcionario é \", nome,\"e seu salario é de R$ \",salario[c])\n",
        "   r = input(\" Quer continuar s/n\")\n",
        "   if r == \"n\" or r == \"nao\":  \n",
        "      flag = False\n",
        " else: \n",
        "  print(\"Digite um funcionario da lista\")\n"
      ],
      "execution_count": null,
      "outputs": []
    },
    {
      "cell_type": "code",
      "metadata": {
        "id": "rc2jUxUWix4a"
      },
      "source": [
        "\n",
        "\n"
      ],
      "execution_count": 61,
      "outputs": []
    },
    {
      "cell_type": "code",
      "metadata": {
        "id": "v_LugdDe0Fut"
      },
      "source": [
        ""
      ],
      "execution_count": null,
      "outputs": []
    }
  ]
}