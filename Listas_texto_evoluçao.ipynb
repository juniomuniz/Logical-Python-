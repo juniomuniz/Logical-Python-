{
  "nbformat": 4,
  "nbformat_minor": 0,
  "metadata": {
    "colab": {
      "name": "Untitled25.ipynb",
      "provenance": [],
      "authorship_tag": "ABX9TyNWwaYa++I/IlvdVBpg8OX1",
      "include_colab_link": true
    },
    "kernelspec": {
      "name": "python3",
      "display_name": "Python 3"
    },
    "language_info": {
      "name": "python"
    }
  },
  "cells": [
    {
      "cell_type": "markdown",
      "metadata": {
        "id": "view-in-github",
        "colab_type": "text"
      },
      "source": [
        "<a href=\"https://colab.research.google.com/github/juniomuniz/Logical-Python-/blob/main/Listas_texto_evolu%C3%A7ao.ipynb\" target=\"_parent\"><img src=\"https://colab.research.google.com/assets/colab-badge.svg\" alt=\"Open In Colab\"/></a>"
      ]
    },
    {
      "cell_type": "code",
      "metadata": {
        "colab": {
          "base_uri": "https://localhost:8080/"
        },
        "id": "kcBq4xBqYdEJ",
        "outputId": "9559ea4e-26f9-4b2d-f266-9836a071d9a4"
      },
      "source": [
        "frase = ['de cinema)', 'que satisfaça o contexto', 'sequenciamento de listas', 'para mostrar', 'a seqüência dos', 'no console', '(para quem gosta', 'contida na mesma', 'elementos da lista', 'Utilizar o', 'da frase', 'do significado']\n",
        "lenght = len(frase)\n",
        "print(f'{lenght} Elementos')\n",
        "print(\"\\n A frase ordenada é:\",\"\", frase[9],\"\", frase[2],\"\",frase[3],\"\",frase[4],\"\", frase[5],\"\", frase[4]\n",
        "      ,\"\",frase[8],\"\", frase[1], \"\", frase[11],\"\", frase[10],\"\", frase[7],\"\", frase[6],\"\", frase[0])"
      ],
      "execution_count": null,
      "outputs": [
        {
          "output_type": "stream",
          "name": "stdout",
          "text": [
            "12 Elementos\n",
            "\n",
            " A frase ordenada é:  Utilizar o  sequenciamento de listas  para mostrar  a seqüência dos  no console  a seqüência dos  elementos da lista  que satisfaça o contexto  do significado  da frase  contida na mesma  (para quem gosta  de cinema)\n"
          ]
        }
      ]
    },
    {
      "cell_type": "code",
      "metadata": {
        "colab": {
          "base_uri": "https://localhost:8080/"
        },
        "id": "ROYOXZbVVeO4",
        "outputId": "f6d31d9c-fde8-4ec1-cb91-01d00bce602a"
      },
      "source": [
        "list_par = []\n",
        "list_remo = []\n",
        "o = 0\n",
        "for c in range(lenght):\n",
        "  if c % 2 == 0:\n",
        "    #frase.remove(c) \n",
        "     print(f\"O elemento positivo [{frase[c]}]  foi removido\" )\n",
        "     o = o + 1\n",
        "  else:\n",
        "   c = c+ 1\n",
        "lenght2 = len(list_remo)\n",
        "print(f' Foram removidos no Total {o} Elementos')\n",
        "\n"
      ],
      "execution_count": null,
      "outputs": [
        {
          "output_type": "stream",
          "name": "stdout",
          "text": [
            "O elemento positivo [de cinema)]  foi removido\n",
            "O elemento positivo [sequenciamento de listas]  foi removido\n",
            "O elemento positivo [a seqüência dos]  foi removido\n",
            "O elemento positivo [(para quem gosta]  foi removido\n",
            "O elemento positivo [elementos da lista]  foi removido\n",
            "O elemento positivo [da frase]  foi removido\n",
            " Foram removidos no Total 6 Elementos\n"
          ]
        }
      ]
    },
    {
      "cell_type": "code",
      "metadata": {
        "id": "laG2uIIyBhEK"
      },
      "source": [
        "frase = ['de cinema)', 'que satisfaça o contexto', 'sequenciamento de listas', 'para mostrar', 'a seqüência dos', 'no console', '(para quem gosta', 'contida na mesma', 'elementos da lista', 'Utilizar o', 'da frase', 'do significado']\n",
        "lenght = len(frase)\n",
        "print(lenght)\n",
        "#print(\"\\n A frase ordenada é:\",\"\", frase[9],\"\", frase[2:4],\"\", frase[5],\"\", frase[4]\n",
        "      #,\"\",frase[8],\"\", frase[1], \"\", frase[11],\"\", frase[10],\"\", frase[7],\"\", frase[6],\"\", frase[0])\n",
        "var = f\"{frase[9]} {frase[2]} \"\n",
        "\n",
        "\n",
        "print(var)"
      ],
      "execution_count": null,
      "outputs": []
    },
    {
      "cell_type": "code",
      "metadata": {
        "id": "NBK1neOxB3nW"
      },
      "source": [
        ""
      ],
      "execution_count": null,
      "outputs": []
    }
  ]
}