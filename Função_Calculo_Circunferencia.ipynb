{
  "nbformat": 4,
  "nbformat_minor": 0,
  "metadata": {
    "colab": {
      "name": "Untitled12.ipynb",
      "provenance": [],
      "authorship_tag": "ABX9TyO4N9CYNc4chxUypFbdvu4a",
      "include_colab_link": true
    },
    "kernelspec": {
      "name": "python3",
      "display_name": "Python 3"
    },
    "language_info": {
      "name": "python"
    }
  },
  "cells": [
    {
      "cell_type": "markdown",
      "metadata": {
        "id": "view-in-github",
        "colab_type": "text"
      },
      "source": [
        "<a href=\"https://colab.research.google.com/github/juniomuniz/Logical-Python-/blob/main/Fun%C3%A7%C3%A3o_Calculo_Circunferencia.ipynb\" target=\"_parent\"><img src=\"https://colab.research.google.com/assets/colab-badge.svg\" alt=\"Open In Colab\"/></a>"
      ]
    },
    {
      "cell_type": "code",
      "metadata": {
        "colab": {
          "base_uri": "https://localhost:8080/"
        },
        "id": "jA6zU-yxBrPY",
        "outputId": "cb0846df-94f9-4567-abe7-27a18d6756d2"
      },
      "source": [
        "pi = 3.1416\n",
        "variavel = \"PI\"\n",
        "\n",
        "def area_circunferencia(raio):\n",
        "   print('uso da variavel global', variavel,\" = \", pi)\n",
        "   return pi*pow(raio, 2)\n",
        "\n",
        "def comprimento_circunferencia(diametro):\n",
        "   print(\"uso da variavel global \", variavel,\" = \", pi)\n",
        "   return pi*diametro\n",
        "\n",
        "r = int(input(\"Digite o Raio da circunferencia\"))\n",
        "d = r*2\n",
        "\n",
        "print(\"A circunferencia de raio 3 tem area = \", area_circunferencia(r))\n",
        "print(\"A circunferencia de diametro 6 tem comprimento = \", comprimento_circunferencia(d))\n"
      ],
      "execution_count": 1,
      "outputs": [
        {
          "output_type": "stream",
          "name": "stdout",
          "text": [
            "Digite o Raio da circunferencia3\n",
            "uso da variavel global PI  =  3.1416\n",
            "A circunferencia de raio 3 tem area =  28.2744\n",
            "uso da variavel global  PI  =  3.1416\n",
            "A circunferencia de diametro 6 tem comprimento =  18.8496\n"
          ]
        }
      ]
    }
  ]
}