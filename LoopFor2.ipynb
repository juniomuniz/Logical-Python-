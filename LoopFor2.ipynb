{
  "nbformat": 4,
  "nbformat_minor": 0,
  "metadata": {
    "colab": {
      "name": "LoopFor2.ipynb",
      "provenance": [],
      "authorship_tag": "ABX9TyOnAXL7tWKpWM7oxmDCYvUq",
      "include_colab_link": true
    },
    "kernelspec": {
      "name": "python3",
      "display_name": "Python 3"
    },
    "language_info": {
      "name": "python"
    }
  },
  "cells": [
    {
      "cell_type": "markdown",
      "metadata": {
        "id": "view-in-github",
        "colab_type": "text"
      },
      "source": [
        "<a href=\"https://colab.research.google.com/github/juniomuniz/Logical-Python-/blob/main/LoopFor2.ipynb\" target=\"_parent\"><img src=\"https://colab.research.google.com/assets/colab-badge.svg\" alt=\"Open In Colab\"/></a>"
      ]
    },
    {
      "cell_type": "markdown",
      "metadata": {
        "id": "TuAsffzclxg6"
      },
      "source": [
        "#Loop"
      ]
    },
    {
      "cell_type": "code",
      "metadata": {
        "id": "W3Oq8iioltKT"
      },
      "source": [
        "\"\"\"The included code stub will read an integer, , from STDIN.\n",
        "\n",
        "Without using any string methods, try to print the following:\n",
        "\n",
        "\n",
        "Note that \"\" represents the consecutive values in between.\n",
        "\n",
        "Example\n",
        "\n",
        "Print the string .\"\"\""
      ],
      "execution_count": null,
      "outputs": []
    },
    {
      "cell_type": "code",
      "metadata": {
        "colab": {
          "base_uri": "https://localhost:8080/"
        },
        "id": "N7kfDXkGaxdL",
        "outputId": "bb8d1705-e729-4847-db71-d6608cbf89f4"
      },
      "source": [
        "n = int(input())\n",
        "n1 = n+1\n",
        "for i in range(0,n+1):\n",
        "\n",
        "  print(i,end=\"\")"
      ],
      "execution_count": 4,
      "outputs": [
        {
          "output_type": "stream",
          "name": "stdout",
          "text": [
            "5\n",
            "012345"
          ]
        }
      ]
    },
    {
      "cell_type": "code",
      "metadata": {
        "colab": {
          "base_uri": "https://localhost:8080/"
        },
        "id": "MQO4F07za8W-",
        "outputId": "5373c27a-5e89-4d7b-f166-580efefff84c"
      },
      "source": [
        "n = int(input())\n",
        "\n",
        "for i in range(1,n+1):\n",
        "        print(i, end=\"\")\n",
        "        "
      ],
      "execution_count": 11,
      "outputs": [
        {
          "output_type": "stream",
          "name": "stdout",
          "text": [
            "3\n",
            "123"
          ]
        }
      ]
    },
    {
      "cell_type": "code",
      "metadata": {
        "id": "Pg1cFIDSd-ht"
      },
      "source": [
        ""
      ],
      "execution_count": null,
      "outputs": []
    }
  ]
}