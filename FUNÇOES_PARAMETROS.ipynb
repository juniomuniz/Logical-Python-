{
  "nbformat": 4,
  "nbformat_minor": 0,
  "metadata": {
    "colab": {
      "name": "Untitled13.ipynb",
      "provenance": [],
      "authorship_tag": "ABX9TyMAxaB6BVtsp6wTvfj8dMzS",
      "include_colab_link": true
    },
    "kernelspec": {
      "name": "python3",
      "display_name": "Python 3"
    },
    "language_info": {
      "name": "python"
    }
  },
  "cells": [
    {
      "cell_type": "markdown",
      "metadata": {
        "id": "view-in-github",
        "colab_type": "text"
      },
      "source": [
        "<a href=\"https://colab.research.google.com/github/juniomuniz/Logical-Python-/blob/main/FUN%C3%87OES_PARAMETROS.ipynb\" target=\"_parent\"><img src=\"https://colab.research.google.com/assets/colab-badge.svg\" alt=\"Open In Colab\"/></a>"
      ]
    },
    {
      "cell_type": "code",
      "metadata": {
        "colab": {
          "base_uri": "https://localhost:8080/"
        },
        "id": "s4ipYd61DSjC",
        "outputId": "916e1ca5-4ce0-4669-8fbb-030afac57e79"
      },
      "source": [
        "print(\"FUNÇOES COMO PARAMETROS DE OUTRAS FUNÇOES\")\n",
        "def multiplas_operaçoes(a, b, operaçoes_aritimetica):\n",
        "  return operaçoes_aritimetica(a,b)\n",
        "def soma(c, d):\n",
        "  return c + d \n",
        "def subtração(d, e):\n",
        "  return d - e\n",
        "def multiplicaçao(f, g): \n",
        "  return f*g \n",
        "def divisão(h,i):\n",
        "  return h/i\n",
        "\n",
        "x= 2.14\n",
        "y = -9.33\n",
        "print(f\"operaçoes de soma {x} + {y} = \", multiplas_operaçoes(x, y, soma))\n",
        "print(f\"operaçoes de subtração {x} - {y} = \", multiplas_operaçoes(x, y, subtração))\n",
        "print(f\"operaçoes de multiplicaçao {x} * {y} = \", multiplas_operaçoes(x, y, multiplicaçao))\n",
        "print(f\"operaçoes de divisão {x} / {y} = \", multiplas_operaçoes(x, y, divisão))\n",
        "\n"
      ],
      "execution_count": 27,
      "outputs": [
        {
          "output_type": "stream",
          "name": "stdout",
          "text": [
            "FUNÇOES COMO PARAMETROS DE OUTRAS FUNÇOES\n",
            "operaçoes de soma 2.14 + -9.33 =  -7.1899999999999995\n",
            "operaçoes de subtração 2.14 - -9.33 =  11.47\n",
            "operaçoes de multiplicaçao 2.14 * -9.33 =  -19.9662\n",
            "operaçoes de divisão 2.14 / -9.33 =  -0.22936763129689175\n"
          ]
        }
      ]
    },
    {
      "cell_type": "code",
      "metadata": {
        "id": "EKbLl-PzFmHM"
      },
      "source": [
        ""
      ],
      "execution_count": null,
      "outputs": []
    }
  ]
}