{
  "nbformat": 4,
  "nbformat_minor": 0,
  "metadata": {
    "colab": {
      "name": "Manipulate_list_important.ipynb",
      "provenance": [],
      "authorship_tag": "ABX9TyPtD0fmUFH+tzGNTz+JJklp",
      "include_colab_link": true
    },
    "kernelspec": {
      "name": "python3",
      "display_name": "Python 3"
    },
    "language_info": {
      "name": "python"
    }
  },
  "cells": [
    {
      "cell_type": "markdown",
      "metadata": {
        "id": "view-in-github",
        "colab_type": "text"
      },
      "source": [
        "<a href=\"https://colab.research.google.com/github/juniomuniz/Logical-Python-/blob/main/Manipulate_list_important.ipynb\" target=\"_parent\"><img src=\"https://colab.research.google.com/assets/colab-badge.svg\" alt=\"Open In Colab\"/></a>"
      ]
    },
    {
      "cell_type": "code",
      "metadata": {
        "colab": {
          "base_uri": "https://localhost:8080/"
        },
        "id": "XiwgzfY2T67z",
        "outputId": "c8db3137-801a-4925-8dee-36bcfd832122"
      },
      "source": [
        "list1 = [4,3,5,2,6,7,8,7,8]\n",
        "print(list1) \n",
        "lenght = len(list1 )\n",
        "print(lenght)\n"
      ],
      "execution_count": 59,
      "outputs": [
        {
          "output_type": "stream",
          "name": "stdout",
          "text": [
            "[4, 3, 5, 2, 6, 7, 8, 7, 8]\n",
            "9\n"
          ]
        }
      ]
    },
    {
      "cell_type": "markdown",
      "metadata": {
        "id": "hTFC9rPQXkqx"
      },
      "source": [
        "# method append \n"
      ]
    },
    {
      "cell_type": "code",
      "metadata": {
        "colab": {
          "base_uri": "https://localhost:8080/"
        },
        "id": "G7HswAd8Wa0d",
        "outputId": "c036ae89-6ecd-403a-ef9c-c1c82bd2f130"
      },
      "source": [
        "list1.append(3)\n",
        "lenght = len(list1)\n",
        "print(f\"One more number was added ->{list1}\")\n",
        "print(f\"new lenght are {lenght}\")"
      ],
      "execution_count": 60,
      "outputs": [
        {
          "output_type": "stream",
          "name": "stdout",
          "text": [
            "One more number was added ->[4, 3, 5, 2, 6, 7, 8, 7, 8, 3]\n",
            "new lenght are 10\n"
          ]
        }
      ]
    },
    {
      "cell_type": "markdown",
      "metadata": {
        "id": "OUTEVMYOZ6VI"
      },
      "source": [
        "# one more nunber was added but this time with position\n"
      ]
    },
    {
      "cell_type": "code",
      "metadata": {
        "colab": {
          "base_uri": "https://localhost:8080/"
        },
        "id": "a1WMLLYDXscm",
        "outputId": "d8230387-9d51-41c0-9a38-958364ba8447"
      },
      "source": [
        "list1.insert(0,100)\n",
        "print(f\"The number 100 was added in position 0 {list1}\")"
      ],
      "execution_count": 61,
      "outputs": [
        {
          "output_type": "stream",
          "name": "stdout",
          "text": [
            "The number 100 was added in position 0 [100, 4, 3, 5, 2, 6, 7, 8, 7, 8, 3]\n"
          ]
        }
      ]
    },
    {
      "cell_type": "markdown",
      "metadata": {
        "id": "vVXdSAB9bHFP"
      },
      "source": [
        "# This method will remove a value "
      ]
    },
    {
      "cell_type": "markdown",
      "metadata": {
        "id": "WgAlj8bB6wC8"
      },
      "source": [
        ""
      ]
    },
    {
      "cell_type": "code",
      "metadata": {
        "colab": {
          "base_uri": "https://localhost:8080/"
        },
        "id": "DdPaC3RVbGmh",
        "outputId": "ed0269f9-b001-442a-9596-2f13cec34f91"
      },
      "source": [
        "list1.remove(list1[3]) # list1.remove(3)\n",
        "print(f\" that method removed the first number with the same value{list1}\")"
      ],
      "execution_count": 49,
      "outputs": [
        {
          "output_type": "stream",
          "name": "stdout",
          "text": [
            " that method removed the first number with the same value[100, 4, 3, 2, 6, 7, 8, 7, 8, 3]\n"
          ]
        }
      ]
    },
    {
      "cell_type": "code",
      "metadata": {
        "colab": {
          "base_uri": "https://localhost:8080/"
        },
        "id": "N1l4Tf1y62Sk",
        "outputId": "e28d5191-3936-46f0-86ab-0f5f49274a86"
      },
      "source": [
        "x =list1.pop(3)\n",
        "print(x)"
      ],
      "execution_count": 63,
      "outputs": [
        {
          "output_type": "stream",
          "name": "stdout",
          "text": [
            "2\n"
          ]
        }
      ]
    },
    {
      "cell_type": "markdown",
      "metadata": {
        "id": "5Og38ydsfXOU"
      },
      "source": [
        "# This method counts repetitions "
      ]
    },
    {
      "cell_type": "code",
      "metadata": {
        "colab": {
          "base_uri": "https://localhost:8080/"
        },
        "id": "2CFjeCXTZn7n",
        "outputId": "ab097e4f-4e62-4a9b-97ef-4b5269646c13"
      },
      "source": [
        "count = list1.count(3)\n",
        "print(count)"
      ],
      "execution_count": 51,
      "outputs": [
        {
          "output_type": "stream",
          "name": "stdout",
          "text": [
            "2\n"
          ]
        }
      ]
    },
    {
      "cell_type": "markdown",
      "metadata": {
        "id": "6GbEb-JVji2n"
      },
      "source": [
        "#This method will organize the list from smallest to largest"
      ]
    },
    {
      "cell_type": "code",
      "metadata": {
        "colab": {
          "base_uri": "https://localhost:8080/",
          "height": 212
        },
        "id": "q3FOWZ4ufwOB",
        "outputId": "22b999c4-dbfc-4929-9ec7-7805c2beb92d"
      },
      "source": [
        "list1.sort()\n",
        "print(list1)\n"
      ],
      "execution_count": 54,
      "outputs": [
        {
          "output_type": "stream",
          "name": "stdout",
          "text": [
            "[2, 3, 3, 4, 6, 7, 7, 8, 8, 100]\n"
          ]
        },
        {
          "output_type": "error",
          "ename": "TypeError",
          "evalue": "ignored",
          "traceback": [
            "\u001b[0;31m---------------------------------------------------------------------------\u001b[0m",
            "\u001b[0;31mTypeError\u001b[0m                                 Traceback (most recent call last)",
            "\u001b[0;32m<ipython-input-54-ae0d438d54cd>\u001b[0m in \u001b[0;36m<module>\u001b[0;34m()\u001b[0m\n\u001b[1;32m      1\u001b[0m \u001b[0mlist1\u001b[0m\u001b[0;34m.\u001b[0m\u001b[0msort\u001b[0m\u001b[0;34m(\u001b[0m\u001b[0;34m)\u001b[0m\u001b[0;34m\u001b[0m\u001b[0;34m\u001b[0m\u001b[0m\n\u001b[1;32m      2\u001b[0m \u001b[0mprint\u001b[0m\u001b[0;34m(\u001b[0m\u001b[0mlist1\u001b[0m\u001b[0;34m)\u001b[0m\u001b[0;34m\u001b[0m\u001b[0;34m\u001b[0m\u001b[0m\n\u001b[0;32m----> 3\u001b[0;31m \u001b[0mlist1\u001b[0m\u001b[0;34m.\u001b[0m\u001b[0mextend\u001b[0m\u001b[0;34m(\u001b[0m\u001b[0;36m0\u001b[0m\u001b[0;34m)\u001b[0m\u001b[0;34m\u001b[0m\u001b[0;34m\u001b[0m\u001b[0m\n\u001b[0m",
            "\u001b[0;31mTypeError\u001b[0m: 'int' object is not iterable"
          ]
        }
      ]
    },
    {
      "cell_type": "markdown",
      "metadata": {
        "id": "XmIJVPHhmeJA"
      },
      "source": [
        "# on the contrary of sort"
      ]
    },
    {
      "cell_type": "code",
      "metadata": {
        "colab": {
          "base_uri": "https://localhost:8080/"
        },
        "id": "sIelYx4gmNRw",
        "outputId": "ab964157-933c-4f46-a10f-db398f50a58d"
      },
      "source": [
        "list1.reverse()\n",
        "print(list1)"
      ],
      "execution_count": 58,
      "outputs": [
        {
          "output_type": "stream",
          "name": "stdout",
          "text": [
            "[100, 8, 8, 7, 7, 6, 4, 3, 3, 2]\n"
          ]
        }
      ]
    },
    {
      "cell_type": "markdown",
      "metadata": {
        "id": "sMixBLxzmFhQ"
      },
      "source": [
        "list1.reverse =true\n",
        "\n",
        "```\n",
        "# Isto está formatado como código\n",
        "```\n",
        "\n",
        "\n"
      ]
    },
    {
      "cell_type": "markdown",
      "metadata": {
        "id": "q5avRLMGlaTH"
      },
      "source": [
        "# this methods might make some operations on that list"
      ]
    },
    {
      "cell_type": "code",
      "metadata": {
        "colab": {
          "base_uri": "https://localhost:8080/"
        },
        "id": "ALOEh5tDgNtz",
        "outputId": "58d87d00-6073-41bb-be4c-ea7c003a9a99"
      },
      "source": [
        "print(min(list1),max(list1),sum(list1) )"
      ],
      "execution_count": 57,
      "outputs": [
        {
          "output_type": "stream",
          "name": "stdout",
          "text": [
            "2 100 148\n"
          ]
        }
      ]
    },
    {
      "cell_type": "code",
      "metadata": {
        "id": "vcDpr_vEk_Dw"
      },
      "source": [
        ""
      ],
      "execution_count": null,
      "outputs": []
    }
  ]
}