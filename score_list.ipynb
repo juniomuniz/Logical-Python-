{
  "nbformat": 4,
  "nbformat_minor": 0,
  "metadata": {
    "colab": {
      "name": "Untitled6.ipynb",
      "provenance": [],
      "authorship_tag": "ABX9TyMhyOqcQkSRxLHs8HdYJNph",
      "include_colab_link": true
    },
    "kernelspec": {
      "name": "python3",
      "display_name": "Python 3"
    },
    "language_info": {
      "name": "python"
    }
  },
  "cells": [
    {
      "cell_type": "markdown",
      "metadata": {
        "id": "view-in-github",
        "colab_type": "text"
      },
      "source": [
        "<a href=\"https://colab.research.google.com/github/juniomuniz/Logical-Python-/blob/main/score_list.ipynb\" target=\"_parent\"><img src=\"https://colab.research.google.com/assets/colab-badge.svg\" alt=\"Open In Colab\"/></a>"
      ]
    },
    {
      "cell_type": "code",
      "metadata": {
        "colab": {
          "base_uri": "https://localhost:8080/"
        },
        "id": "BAp27SPXmhH-",
        "outputId": "de08ac8b-4d84-481b-be09-5bb911fd5ce9"
      },
      "source": [
        "lista = []\n",
        "i = 0\n",
        "s = 0\n",
        "c = 0\n",
        "while i >= 0 :\n",
        "    i = float(input(\"digite uma nota\"))\n",
        "    c = c+1\n",
        "    if i >= 0:\n",
        "      lista.append(i) \n",
        "      s = i + s\n",
        "     \n",
        "t = len(lista)\n",
        "res = list(filter(lambda x: x >= s/t, lista))\n",
        "rem = list(filter(lambda x: x >= 7 , lista))\n",
        "print(\"Foram \", t, \" Notas\\n\")\n",
        "print(\"Os numeros digitados foram \",lista , \"\\n\")\n",
        "lista.reverse()\n",
        "print(\"Ao contrario\",lista,\"\\n\")\n",
        "print(\"A soma das notas é \\n\",s )\n",
        "print(\"A media é \", s/t,\"\\n\")\n",
        "print(list(res))\n",
        "print(list(rem))\n"
      ],
      "execution_count": 7,
      "outputs": [
        {
          "output_type": "stream",
          "name": "stdout",
          "text": [
            "digite uma nota8\n",
            "digite uma nota6\n",
            "digite uma nota7\n",
            "digite uma nota9\n",
            "digite uma nota10\n",
            "digite uma nota5\n",
            "digite uma nota2\n",
            "digite uma nota3\n",
            "digite uma nota4\n",
            "digite uma nota-1\n",
            "Foram  9  Notas\n",
            "\n",
            "Os numeros digitados foram  [8.0, 6.0, 7.0, 9.0, 10.0, 5.0, 2.0, 3.0, 4.0] \n",
            "\n",
            "Ao contrario [4.0, 3.0, 2.0, 5.0, 10.0, 9.0, 7.0, 6.0, 8.0] \n",
            "\n",
            "A soma das notas é \n",
            " 54.0\n",
            "A media é  6.0 \n",
            "\n",
            "[8.0, 6.0, 7.0, 9.0, 10.0]\n",
            "[8.0, 7.0, 9.0, 10.0]\n"
          ]
        }
      ]
    },
    {
      "cell_type": "code",
      "metadata": {
        "colab": {
          "base_uri": "https://localhost:8080/"
        },
        "id": "itMxMNGB9WbO",
        "outputId": "82c7242a-dcb2-4e26-e016-2eba27d5d5ac"
      },
      "source": [
        "x = [1, 2, 6, 3, 9, 11, 63, 10 ]\n",
        "def par (n) :\n",
        "    if n % 2 == 0:\n",
        "        return True \n",
        "    else:\n",
        "        return False\n",
        "\n",
        "\n",
        "#list(filter(par, x ))\n",
        "s = x.reverse()\n",
        "print(s)\n"
      ],
      "execution_count": 6,
      "outputs": [
        {
          "output_type": "stream",
          "name": "stdout",
          "text": [
            "None\n"
          ]
        }
      ]
    },
    {
      "cell_type": "code",
      "metadata": {
        "id": "cCqZgfadFGqa"
      },
      "source": [
        ""
      ],
      "execution_count": null,
      "outputs": []
    }
  ]
}