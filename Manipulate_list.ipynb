{
  "nbformat": 4,
  "nbformat_minor": 0,
  "metadata": {
    "colab": {
      "name": "Manipulate_list.ipynb",
      "provenance": [],
      "authorship_tag": "ABX9TyPanUyHPKas2KZyJDTHc9Ya",
      "include_colab_link": true
    },
    "kernelspec": {
      "name": "python3",
      "display_name": "Python 3"
    },
    "language_info": {
      "name": "python"
    }
  },
  "cells": [
    {
      "cell_type": "markdown",
      "metadata": {
        "id": "view-in-github",
        "colab_type": "text"
      },
      "source": [
        "<a href=\"https://colab.research.google.com/github/juniomuniz/Logical-Python-/blob/main/Manipulate_list.ipynb\" target=\"_parent\"><img src=\"https://colab.research.google.com/assets/colab-badge.svg\" alt=\"Open In Colab\"/></a>"
      ]
    },
    {
      "cell_type": "code",
      "metadata": {
        "id": "VWdVWlv3ozwa"
      },
      "source": [
        ""
      ],
      "execution_count": null,
      "outputs": []
    },
    {
      "cell_type": "code",
      "metadata": {
        "colab": {
          "base_uri": "https://localhost:8080/"
        },
        "id": "sx1Z8vQzjKDf",
        "outputId": "55f015cc-15ea-4bd1-e241-e56a7a8e54ea"
      },
      "source": [
        "comment = [\"As formigas\",\"trabalham\",\"durante\",\"o ano inteiro\",\"As cigarras\",\"aparecem\",\"no verão\"]\n",
        "lenght = len(comment)\n",
        "print(lenght)"
      ],
      "execution_count": 18,
      "outputs": [
        {
          "output_type": "stream",
          "name": "stdout",
          "text": [
            "7\n"
          ]
        }
      ]
    },
    {
      "cell_type": "code",
      "metadata": {
        "colab": {
          "base_uri": "https://localhost:8080/"
        },
        "id": "qe8dv6pZpB7H",
        "outputId": "e7508c14-095f-4e68-9695-6ac691330432"
      },
      "source": [
        "i =0 \n",
        "while i < lenght:\n",
        "  print(comment[i])\n",
        "  i +=1\n",
        "print(\"\\nSo as formigas!\")\n",
        "comment_ant = comment[0:5] \n",
        "lenght_ant = len(comment_ant)\n",
        "j = 0 \n",
        "while j < lenght_ant:\n",
        "  print(comment[j])\n",
        "  j+=1 \n",
        "print(\"\\nSo as cigarras!\")\n",
        "comment_cicada = comment[5:7]\n",
        "lenght_cicada = len(comment_cicada)\n",
        "k = 0\n",
        "while k < lenght_cicada:\n",
        " print(comment_cicada[k])\n",
        " k += 1 "
      ],
      "execution_count": 19,
      "outputs": [
        {
          "output_type": "stream",
          "name": "stdout",
          "text": [
            "As formigas\n",
            "trabalham\n",
            "durante\n",
            "o ano inteiro\n",
            "As cigarras\n",
            "aparecem\n",
            "no verão\n",
            "\n",
            "So as formigas!\n",
            "As formigas\n",
            "trabalham\n",
            "durante\n",
            "o ano inteiro\n",
            "As cigarras\n",
            "\n",
            "So as cigarras!\n",
            "aparecem\n",
            "no verão\n"
          ]
        }
      ]
    }
  ]
}